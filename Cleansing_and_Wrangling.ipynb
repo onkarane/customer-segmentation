{
 "cells": [
  {
   "cell_type": "markdown",
   "id": "ruled-bracelet",
   "metadata": {},
   "source": [
    "# Starbucks Segmentation : Cleansing & Wrangling"
   ]
  },
  {
   "cell_type": "markdown",
   "id": "governmental-respondent",
   "metadata": {},
   "source": [
    "# 1. Dataset"
   ]
  },
  {
   "cell_type": "markdown",
   "id": "hundred-shakespeare",
   "metadata": {},
   "source": [
    "The dataset is a part of Udacity Data Science Nanodegree Capstone project.\n",
    "\n",
    "Following are three files in the dataset:\n",
    "\n",
    "1. portfolio.json: contains information about each offer & various attributes related to the offer\n",
    "2. profile.json: contains metadata about customers\n",
    "3. transcript.json: contains data related to event such as offer recevied/viewed/completed by a customer\n",
    "\n",
    "Schema of each of the three files:\n",
    "\n",
    "1. portfolio.json\n",
    "\n",
    "    - id (string): alpha-numeric id to uniquely identify each offer\n",
    "    - offer_type (string): name of the offers (bogo, discount, informational)\n",
    "    - channels (list of string): channels used by starbucks to send offers ex: web, social\n",
    "    - duration (int): duration for which the offer will be valid\n",
    "    - difficulty (int): difficulty associated with each of the offer\n",
    "    - reward (int): reward associated with each of the offer\n",
    "\n",
    "\n",
    "2. profile.json\n",
    "\n",
    "    - id (string): alpha-numeric id to uniquely identify each customer\n",
    "    - age(int): age of the customer\n",
    "    - gender(string): gender of the customer\n",
    "    - became_member_on (int): a single integer that contains date the customer became member on\n",
    "    - income (float): income of the customer\n",
    "    \n",
    "    \n",
    "3. transcript.json\n",
    "\n",
    "    - person (string): alpha-numeric id to uniquely identify customer (same as id from profile.json)\n",
    "    - event (string): contains the event that took place offer recevied/viewed/completed or whether it was transaction\n",
    "    - value (dict of strings): contains offer id or amount of transaction/reward depending on the type of event\n",
    "    - time (int): describes when the event occured starts with t=0\n",
    "    "
   ]
  },
  {
   "cell_type": "code",
   "execution_count": 1,
   "id": "civilian-smell",
   "metadata": {},
   "outputs": [],
   "source": [
    "\"Import the required libraries for cleansing, viz & transformation\"\n",
    "\n",
    "#import Segmentation class from helper file\n",
    "from segmentation import Transformation\n",
    "\n",
    "#data manipulation library\n",
    "import pandas as pd\n",
    "import numpy as np\n",
    "\n",
    "#visualization libraries\n",
    "import seaborn as sns\n",
    "import plotly.express as px\n",
    "import matplotlib.pyplot as plt\n",
    "#cluster visualization\n",
    "from yellowbrick.cluster.elbow import kelbow_visualizer\n",
    "\n",
    "#set graphic properties\n",
    "%matplotlib inline\n",
    "%config InlineBackend.figure_format='retina'\n",
    "sns.set_style(\"whitegrid\")\n",
    "\n",
    "#manage warnings\n",
    "import warnings\n",
    "warnings.filterwarnings('ignore')"
   ]
  },
  {
   "cell_type": "code",
   "execution_count": 2,
   "id": "present-underwear",
   "metadata": {},
   "outputs": [],
   "source": [
    "#define the color pallete for viz\n",
    "starbucks = [\"#00704A\", \"#27251F\", \"#604c4c\", \"#eac784\", \"#362415\", \"#c38d60\"]"
   ]
  },
  {
   "cell_type": "code",
   "execution_count": 3,
   "id": "centered-commitment",
   "metadata": {},
   "outputs": [],
   "source": [
    "def read_json_files(filename):\n",
    "    '''\n",
    "    Function takes the filename as input reads the file\n",
    "    as a pandas dataframe and returns it.\n",
    "    \n",
    "    INPUT: \n",
    "        filename: string filename ex: profile.csv\n",
    "    OUTPUT:\n",
    "        pandas dataframe of the csv file\n",
    "    '''\n",
    "    filepath = \"data/\" + filename\n",
    "    df = pd.read_json(filepath, lines=True)\n",
    "\n",
    "    return df\n",
    "\n",
    "#call the function to read all three files\n",
    "df_portfolio = read_json_files(\"portfolio.json\")\n",
    "df_profile = read_json_files(\"profile.json\")\n",
    "df_transcript = read_json_files(\"transcript.json\")"
   ]
  },
  {
   "cell_type": "markdown",
   "id": "settled-coordination",
   "metadata": {},
   "source": [
    "### Glimpse of the data"
   ]
  },
  {
   "cell_type": "code",
   "execution_count": 4,
   "id": "early-speed",
   "metadata": {},
   "outputs": [
    {
     "name": "stdout",
     "output_type": "stream",
     "text": [
      "Shape of dataframe: (10, 6)\n"
     ]
    },
    {
     "data": {
      "text/html": [
       "<div>\n",
       "<style scoped>\n",
       "    .dataframe tbody tr th:only-of-type {\n",
       "        vertical-align: middle;\n",
       "    }\n",
       "\n",
       "    .dataframe tbody tr th {\n",
       "        vertical-align: top;\n",
       "    }\n",
       "\n",
       "    .dataframe thead th {\n",
       "        text-align: right;\n",
       "    }\n",
       "</style>\n",
       "<table border=\"1\" class=\"dataframe\">\n",
       "  <thead>\n",
       "    <tr style=\"text-align: right;\">\n",
       "      <th></th>\n",
       "      <th>reward</th>\n",
       "      <th>channels</th>\n",
       "      <th>difficulty</th>\n",
       "      <th>duration</th>\n",
       "      <th>offer_type</th>\n",
       "      <th>id</th>\n",
       "    </tr>\n",
       "  </thead>\n",
       "  <tbody>\n",
       "    <tr>\n",
       "      <th>0</th>\n",
       "      <td>10</td>\n",
       "      <td>[email, mobile, social]</td>\n",
       "      <td>10</td>\n",
       "      <td>7</td>\n",
       "      <td>bogo</td>\n",
       "      <td>ae264e3637204a6fb9bb56bc8210ddfd</td>\n",
       "    </tr>\n",
       "    <tr>\n",
       "      <th>1</th>\n",
       "      <td>10</td>\n",
       "      <td>[web, email, mobile, social]</td>\n",
       "      <td>10</td>\n",
       "      <td>5</td>\n",
       "      <td>bogo</td>\n",
       "      <td>4d5c57ea9a6940dd891ad53e9dbe8da0</td>\n",
       "    </tr>\n",
       "    <tr>\n",
       "      <th>2</th>\n",
       "      <td>0</td>\n",
       "      <td>[web, email, mobile]</td>\n",
       "      <td>0</td>\n",
       "      <td>4</td>\n",
       "      <td>informational</td>\n",
       "      <td>3f207df678b143eea3cee63160fa8bed</td>\n",
       "    </tr>\n",
       "  </tbody>\n",
       "</table>\n",
       "</div>"
      ],
      "text/plain": [
       "   reward                      channels  difficulty  duration     offer_type  \\\n",
       "0      10       [email, mobile, social]          10         7           bogo   \n",
       "1      10  [web, email, mobile, social]          10         5           bogo   \n",
       "2       0          [web, email, mobile]           0         4  informational   \n",
       "\n",
       "                                 id  \n",
       "0  ae264e3637204a6fb9bb56bc8210ddfd  \n",
       "1  4d5c57ea9a6940dd891ad53e9dbe8da0  \n",
       "2  3f207df678b143eea3cee63160fa8bed  "
      ]
     },
     "execution_count": 4,
     "metadata": {},
     "output_type": "execute_result"
    }
   ],
   "source": [
    "#portfolio dataframe\n",
    "print(\"Shape of dataframe: \" + str(df_portfolio.shape))\n",
    "df_portfolio.head(3)"
   ]
  },
  {
   "cell_type": "code",
   "execution_count": 5,
   "id": "caring-niger",
   "metadata": {},
   "outputs": [
    {
     "name": "stdout",
     "output_type": "stream",
     "text": [
      "Shape of dataframe: (17000, 5)\n"
     ]
    },
    {
     "data": {
      "text/html": [
       "<div>\n",
       "<style scoped>\n",
       "    .dataframe tbody tr th:only-of-type {\n",
       "        vertical-align: middle;\n",
       "    }\n",
       "\n",
       "    .dataframe tbody tr th {\n",
       "        vertical-align: top;\n",
       "    }\n",
       "\n",
       "    .dataframe thead th {\n",
       "        text-align: right;\n",
       "    }\n",
       "</style>\n",
       "<table border=\"1\" class=\"dataframe\">\n",
       "  <thead>\n",
       "    <tr style=\"text-align: right;\">\n",
       "      <th></th>\n",
       "      <th>gender</th>\n",
       "      <th>age</th>\n",
       "      <th>id</th>\n",
       "      <th>became_member_on</th>\n",
       "      <th>income</th>\n",
       "    </tr>\n",
       "  </thead>\n",
       "  <tbody>\n",
       "    <tr>\n",
       "      <th>0</th>\n",
       "      <td>None</td>\n",
       "      <td>118</td>\n",
       "      <td>68be06ca386d4c31939f3a4f0e3dd783</td>\n",
       "      <td>20170212</td>\n",
       "      <td>NaN</td>\n",
       "    </tr>\n",
       "    <tr>\n",
       "      <th>1</th>\n",
       "      <td>F</td>\n",
       "      <td>55</td>\n",
       "      <td>0610b486422d4921ae7d2bf64640c50b</td>\n",
       "      <td>20170715</td>\n",
       "      <td>112000.0</td>\n",
       "    </tr>\n",
       "    <tr>\n",
       "      <th>2</th>\n",
       "      <td>None</td>\n",
       "      <td>118</td>\n",
       "      <td>38fe809add3b4fcf9315a9694bb96ff5</td>\n",
       "      <td>20180712</td>\n",
       "      <td>NaN</td>\n",
       "    </tr>\n",
       "  </tbody>\n",
       "</table>\n",
       "</div>"
      ],
      "text/plain": [
       "  gender  age                                id  became_member_on    income\n",
       "0   None  118  68be06ca386d4c31939f3a4f0e3dd783          20170212       NaN\n",
       "1      F   55  0610b486422d4921ae7d2bf64640c50b          20170715  112000.0\n",
       "2   None  118  38fe809add3b4fcf9315a9694bb96ff5          20180712       NaN"
      ]
     },
     "execution_count": 5,
     "metadata": {},
     "output_type": "execute_result"
    }
   ],
   "source": [
    "#profile dataframe\n",
    "print(\"Shape of dataframe: \" + str(df_profile.shape))\n",
    "df_profile.head(3)"
   ]
  },
  {
   "cell_type": "code",
   "execution_count": 6,
   "id": "complimentary-treatment",
   "metadata": {},
   "outputs": [
    {
     "name": "stdout",
     "output_type": "stream",
     "text": [
      "Shape of dataframe: (306534, 4)\n"
     ]
    },
    {
     "data": {
      "text/html": [
       "<div>\n",
       "<style scoped>\n",
       "    .dataframe tbody tr th:only-of-type {\n",
       "        vertical-align: middle;\n",
       "    }\n",
       "\n",
       "    .dataframe tbody tr th {\n",
       "        vertical-align: top;\n",
       "    }\n",
       "\n",
       "    .dataframe thead th {\n",
       "        text-align: right;\n",
       "    }\n",
       "</style>\n",
       "<table border=\"1\" class=\"dataframe\">\n",
       "  <thead>\n",
       "    <tr style=\"text-align: right;\">\n",
       "      <th></th>\n",
       "      <th>person</th>\n",
       "      <th>event</th>\n",
       "      <th>value</th>\n",
       "      <th>time</th>\n",
       "    </tr>\n",
       "  </thead>\n",
       "  <tbody>\n",
       "    <tr>\n",
       "      <th>0</th>\n",
       "      <td>78afa995795e4d85b5d9ceeca43f5fef</td>\n",
       "      <td>offer received</td>\n",
       "      <td>{'offer id': '9b98b8c7a33c4b65b9aebfe6a799e6d9'}</td>\n",
       "      <td>0</td>\n",
       "    </tr>\n",
       "    <tr>\n",
       "      <th>1</th>\n",
       "      <td>a03223e636434f42ac4c3df47e8bac43</td>\n",
       "      <td>offer received</td>\n",
       "      <td>{'offer id': '0b1e1539f2cc45b7b9fa7c272da2e1d7'}</td>\n",
       "      <td>0</td>\n",
       "    </tr>\n",
       "    <tr>\n",
       "      <th>2</th>\n",
       "      <td>e2127556f4f64592b11af22de27a7932</td>\n",
       "      <td>offer received</td>\n",
       "      <td>{'offer id': '2906b810c7d4411798c6938adc9daaa5'}</td>\n",
       "      <td>0</td>\n",
       "    </tr>\n",
       "  </tbody>\n",
       "</table>\n",
       "</div>"
      ],
      "text/plain": [
       "                             person           event  \\\n",
       "0  78afa995795e4d85b5d9ceeca43f5fef  offer received   \n",
       "1  a03223e636434f42ac4c3df47e8bac43  offer received   \n",
       "2  e2127556f4f64592b11af22de27a7932  offer received   \n",
       "\n",
       "                                              value  time  \n",
       "0  {'offer id': '9b98b8c7a33c4b65b9aebfe6a799e6d9'}     0  \n",
       "1  {'offer id': '0b1e1539f2cc45b7b9fa7c272da2e1d7'}     0  \n",
       "2  {'offer id': '2906b810c7d4411798c6938adc9daaa5'}     0  "
      ]
     },
     "execution_count": 6,
     "metadata": {},
     "output_type": "execute_result"
    }
   ],
   "source": [
    "#transcript dataframe\n",
    "print(\"Shape of dataframe: \" + str(df_transcript.shape))\n",
    "df_transcript.head(3)"
   ]
  },
  {
   "cell_type": "markdown",
   "id": "funky-agent",
   "metadata": {},
   "source": [
    "# 2. Data Cleansing"
   ]
  },
  {
   "cell_type": "markdown",
   "id": "alike-congress",
   "metadata": {},
   "source": [
    "If the data is incorrect, the output of the algorithm will be affected. When combining multiple data files, there are many opportunities for data to be duplicated or mislabeled. If data is incorrect, outcomes and algorithms are unreliable, even though they may look correct.Therefore, it is essential to fix any inconsistencies such as null values, incorrect date format, duplicate values before moving on the transformation stages. This section addresses such inconsistencies in each of the three data files and fixes them. "
   ]
  },
  {
   "cell_type": "code",
   "execution_count": 7,
   "id": "owned-insurance",
   "metadata": {},
   "outputs": [],
   "source": [
    "def check_null_values(df):\n",
    "    '''\n",
    "    Function to check and generate percentage of null values in the data\n",
    "    \n",
    "    INPUT:\n",
    "        1. df(pandas dataframe): dataframe to check the null values\n",
    "        \n",
    "    OUTPUT:\n",
    "        1. null_percent(series): columns in the dataframe & percentage of null\n",
    "                                    values in each of the column\n",
    "    '''\n",
    "    #calculate null value percent\n",
    "    null_percent = round(df.isnull().sum() * 100 / len(df), 2)\n",
    "    \n",
    "    return null_percent"
   ]
  },
  {
   "cell_type": "markdown",
   "id": "available-programming",
   "metadata": {},
   "source": [
    "## 2.1 Portfolio"
   ]
  },
  {
   "cell_type": "code",
   "execution_count": 8,
   "id": "reasonable-canada",
   "metadata": {},
   "outputs": [
    {
     "data": {
      "text/plain": [
       "reward        0.0\n",
       "channels      0.0\n",
       "difficulty    0.0\n",
       "duration      0.0\n",
       "offer_type    0.0\n",
       "id            0.0\n",
       "dtype: float64"
      ]
     },
     "execution_count": 8,
     "metadata": {},
     "output_type": "execute_result"
    }
   ],
   "source": [
    "#check for nulls\n",
    "check_null_values(df_portfolio)"
   ]
  },
  {
   "cell_type": "markdown",
   "id": "consistent-interim",
   "metadata": {},
   "source": [
    "Great! There are no null values in the portfolio dataframe. The id column's name however, should be changed to offer_id & the columns have to be rearraged for better interpretation. In addtion, starbucks uses different channels to send different offers to customers. Viusualizing the channels in the dataframe will help to get the general understanding of all the channels used by starbucks to send the offers."
   ]
  },
  {
   "cell_type": "code",
   "execution_count": 9,
   "id": "premier-gabriel",
   "metadata": {},
   "outputs": [
    {
     "data": {
      "text/html": [
       "<div>\n",
       "<style scoped>\n",
       "    .dataframe tbody tr th:only-of-type {\n",
       "        vertical-align: middle;\n",
       "    }\n",
       "\n",
       "    .dataframe tbody tr th {\n",
       "        vertical-align: top;\n",
       "    }\n",
       "\n",
       "    .dataframe thead th {\n",
       "        text-align: right;\n",
       "    }\n",
       "</style>\n",
       "<table border=\"1\" class=\"dataframe\">\n",
       "  <thead>\n",
       "    <tr style=\"text-align: right;\">\n",
       "      <th></th>\n",
       "      <th>offer_id</th>\n",
       "      <th>offer_type</th>\n",
       "      <th>channels</th>\n",
       "      <th>duration</th>\n",
       "      <th>difficulty</th>\n",
       "      <th>reward</th>\n",
       "    </tr>\n",
       "  </thead>\n",
       "  <tbody>\n",
       "    <tr>\n",
       "      <th>0</th>\n",
       "      <td>ae264e3637204a6fb9bb56bc8210ddfd</td>\n",
       "      <td>bogo</td>\n",
       "      <td>[email, mobile, social]</td>\n",
       "      <td>7</td>\n",
       "      <td>10</td>\n",
       "      <td>10</td>\n",
       "    </tr>\n",
       "    <tr>\n",
       "      <th>1</th>\n",
       "      <td>4d5c57ea9a6940dd891ad53e9dbe8da0</td>\n",
       "      <td>bogo</td>\n",
       "      <td>[web, email, mobile, social]</td>\n",
       "      <td>5</td>\n",
       "      <td>10</td>\n",
       "      <td>10</td>\n",
       "    </tr>\n",
       "  </tbody>\n",
       "</table>\n",
       "</div>"
      ],
      "text/plain": [
       "                           offer_id offer_type                      channels  \\\n",
       "0  ae264e3637204a6fb9bb56bc8210ddfd       bogo       [email, mobile, social]   \n",
       "1  4d5c57ea9a6940dd891ad53e9dbe8da0       bogo  [web, email, mobile, social]   \n",
       "\n",
       "   duration  difficulty  reward  \n",
       "0         7          10      10  \n",
       "1         5          10      10  "
      ]
     },
     "execution_count": 9,
     "metadata": {},
     "output_type": "execute_result"
    }
   ],
   "source": [
    "#rename the id column to offer_id\n",
    "df_portfolio.rename(columns = {\"id\" : \"offer_id\"}, inplace=True)\n",
    "\n",
    "#rearange the columns\n",
    "col_order = ['offer_id', 'offer_type', 'channels', 'duration', 'difficulty','reward']\n",
    "df_portfolio = df_portfolio[col_order]\n",
    "df_portfolio.head(2)"
   ]
  },
  {
   "cell_type": "code",
   "execution_count": 10,
   "id": "fitted-thong",
   "metadata": {},
   "outputs": [
    {
     "data": {
      "image/png": "[encoded data removed]",
      "text/plain": [
       "<Figure size 1080x360 with 1 Axes>"
      ]
     },
     "metadata": {
      "image/png": {
       "height": 333,
       "width": 1034
      }
     },
     "output_type": "display_data"
    }
   ],
   "source": [
    "#visualize offer types by different channels\n",
    "df_channels = df_portfolio[['offer_type', 'channels']].explode('channels')\n",
    "plt.figure(figsize=(15,5))\n",
    "plt.title(\"Channel Distribution by Offer Type\", fontsize = 15)\n",
    "g = sns.countplot(data=df_channels, x = \"offer_type\", hue=\"channels\", palette=starbucks)\n",
    "g = plt.legend(bbox_to_anchor=(1.05, 1), loc=2, fontsize = 15)"
   ]
  },
  {
   "cell_type": "markdown",
   "id": "least-membrane",
   "metadata": {},
   "source": [
    "Starbucks uses 4 different channels: email, mobile, social, web to send each of the three offer types. Email appears to be the most consistent channel used across all three offers. While mobile seems to be second favoured channel for sending bogo & informational offers, web is second favoured for the discount offer. "
   ]
  },
  {
   "cell_type": "code",
   "execution_count": 11,
   "id": "functional-bernard",
   "metadata": {},
   "outputs": [
    {
     "data": {
      "text/html": [
       "<div>\n",
       "<style scoped>\n",
       "    .dataframe tbody tr th:only-of-type {\n",
       "        vertical-align: middle;\n",
       "    }\n",
       "\n",
       "    .dataframe tbody tr th {\n",
       "        vertical-align: top;\n",
       "    }\n",
       "\n",
       "    .dataframe thead th {\n",
       "        text-align: right;\n",
       "    }\n",
       "</style>\n",
       "<table border=\"1\" class=\"dataframe\">\n",
       "  <thead>\n",
       "    <tr style=\"text-align: right;\">\n",
       "      <th></th>\n",
       "      <th>duration</th>\n",
       "      <th>difficulty</th>\n",
       "      <th>reward</th>\n",
       "    </tr>\n",
       "    <tr>\n",
       "      <th>offer_type</th>\n",
       "      <th></th>\n",
       "      <th></th>\n",
       "      <th></th>\n",
       "    </tr>\n",
       "  </thead>\n",
       "  <tbody>\n",
       "    <tr>\n",
       "      <th>bogo</th>\n",
       "      <td>6.0</td>\n",
       "      <td>7.50</td>\n",
       "      <td>7.5</td>\n",
       "    </tr>\n",
       "    <tr>\n",
       "      <th>discount</th>\n",
       "      <td>8.5</td>\n",
       "      <td>11.75</td>\n",
       "      <td>3.0</td>\n",
       "    </tr>\n",
       "    <tr>\n",
       "      <th>informational</th>\n",
       "      <td>3.5</td>\n",
       "      <td>0.00</td>\n",
       "      <td>0.0</td>\n",
       "    </tr>\n",
       "  </tbody>\n",
       "</table>\n",
       "</div>"
      ],
      "text/plain": [
       "               duration  difficulty  reward\n",
       "offer_type                                 \n",
       "bogo                6.0        7.50     7.5\n",
       "discount            8.5       11.75     3.0\n",
       "informational       3.5        0.00     0.0"
      ]
     },
     "execution_count": 11,
     "metadata": {},
     "output_type": "execute_result"
    }
   ],
   "source": [
    "#mean reward, difficulty & duration for each offer\n",
    "df_portfolio.groupby(by=\"offer_type\").mean()"
   ]
  },
  {
   "cell_type": "markdown",
   "id": "needed-receipt",
   "metadata": {},
   "source": [
    "Bogo offers seems to have balance between duration, difficulty & rewards whereas the rewards are low for discount offers as compared to their diffculty. Informational offers rightly do not have any rewards associated with them."
   ]
  },
  {
   "cell_type": "markdown",
   "id": "popular-frequency",
   "metadata": {},
   "source": [
    "## 2.2 Profile"
   ]
  },
  {
   "cell_type": "code",
   "execution_count": 12,
   "id": "noble-digit",
   "metadata": {},
   "outputs": [
    {
     "data": {
      "text/plain": [
       "gender              12.79\n",
       "age                  0.00\n",
       "id                   0.00\n",
       "became_member_on     0.00\n",
       "income              12.79\n",
       "dtype: float64"
      ]
     },
     "execution_count": 12,
     "metadata": {},
     "output_type": "execute_result"
    }
   ],
   "source": [
    "#check for null values\n",
    "check_null_values(df_profile)"
   ]
  },
  {
   "cell_type": "markdown",
   "id": "clean-boring",
   "metadata": {},
   "source": [
    "12.79% of the gender & income values are null. These values cannot be dropped as 12.79% is a large part of the data. Analysing these values further can uncover some patterns and reasons as to why the data is missing."
   ]
  },
  {
   "cell_type": "code",
   "execution_count": 13,
   "id": "biological-exposure",
   "metadata": {},
   "outputs": [
    {
     "data": {
      "text/html": [
       "<div>\n",
       "<style scoped>\n",
       "    .dataframe tbody tr th:only-of-type {\n",
       "        vertical-align: middle;\n",
       "    }\n",
       "\n",
       "    .dataframe tbody tr th {\n",
       "        vertical-align: top;\n",
       "    }\n",
       "\n",
       "    .dataframe thead th {\n",
       "        text-align: right;\n",
       "    }\n",
       "</style>\n",
       "<table border=\"1\" class=\"dataframe\">\n",
       "  <thead>\n",
       "    <tr style=\"text-align: right;\">\n",
       "      <th></th>\n",
       "      <th>gender</th>\n",
       "      <th>age</th>\n",
       "      <th>id</th>\n",
       "      <th>became_member_on</th>\n",
       "      <th>income</th>\n",
       "    </tr>\n",
       "  </thead>\n",
       "  <tbody>\n",
       "    <tr>\n",
       "      <th>0</th>\n",
       "      <td>None</td>\n",
       "      <td>118</td>\n",
       "      <td>68be06ca386d4c31939f3a4f0e3dd783</td>\n",
       "      <td>20170212</td>\n",
       "      <td>NaN</td>\n",
       "    </tr>\n",
       "    <tr>\n",
       "      <th>2</th>\n",
       "      <td>None</td>\n",
       "      <td>118</td>\n",
       "      <td>38fe809add3b4fcf9315a9694bb96ff5</td>\n",
       "      <td>20180712</td>\n",
       "      <td>NaN</td>\n",
       "    </tr>\n",
       "    <tr>\n",
       "      <th>4</th>\n",
       "      <td>None</td>\n",
       "      <td>118</td>\n",
       "      <td>a03223e636434f42ac4c3df47e8bac43</td>\n",
       "      <td>20170804</td>\n",
       "      <td>NaN</td>\n",
       "    </tr>\n",
       "    <tr>\n",
       "      <th>6</th>\n",
       "      <td>None</td>\n",
       "      <td>118</td>\n",
       "      <td>8ec6ce2a7e7949b1bf142def7d0e0586</td>\n",
       "      <td>20170925</td>\n",
       "      <td>NaN</td>\n",
       "    </tr>\n",
       "    <tr>\n",
       "      <th>7</th>\n",
       "      <td>None</td>\n",
       "      <td>118</td>\n",
       "      <td>68617ca6246f4fbc85e91a2a49552598</td>\n",
       "      <td>20171002</td>\n",
       "      <td>NaN</td>\n",
       "    </tr>\n",
       "    <tr>\n",
       "      <th>...</th>\n",
       "      <td>...</td>\n",
       "      <td>...</td>\n",
       "      <td>...</td>\n",
       "      <td>...</td>\n",
       "      <td>...</td>\n",
       "    </tr>\n",
       "    <tr>\n",
       "      <th>16980</th>\n",
       "      <td>None</td>\n",
       "      <td>118</td>\n",
       "      <td>5c686d09ca4d475a8f750f2ba07e0440</td>\n",
       "      <td>20160901</td>\n",
       "      <td>NaN</td>\n",
       "    </tr>\n",
       "    <tr>\n",
       "      <th>16982</th>\n",
       "      <td>None</td>\n",
       "      <td>118</td>\n",
       "      <td>d9ca82f550ac4ee58b6299cf1e5c824a</td>\n",
       "      <td>20160415</td>\n",
       "      <td>NaN</td>\n",
       "    </tr>\n",
       "    <tr>\n",
       "      <th>16989</th>\n",
       "      <td>None</td>\n",
       "      <td>118</td>\n",
       "      <td>ca45ee1883624304bac1e4c8a114f045</td>\n",
       "      <td>20180305</td>\n",
       "      <td>NaN</td>\n",
       "    </tr>\n",
       "    <tr>\n",
       "      <th>16991</th>\n",
       "      <td>None</td>\n",
       "      <td>118</td>\n",
       "      <td>a9a20fa8b5504360beb4e7c8712f8306</td>\n",
       "      <td>20160116</td>\n",
       "      <td>NaN</td>\n",
       "    </tr>\n",
       "    <tr>\n",
       "      <th>16994</th>\n",
       "      <td>None</td>\n",
       "      <td>118</td>\n",
       "      <td>c02b10e8752c4d8e9b73f918558531f7</td>\n",
       "      <td>20151211</td>\n",
       "      <td>NaN</td>\n",
       "    </tr>\n",
       "  </tbody>\n",
       "</table>\n",
       "<p>2175 rows × 5 columns</p>\n",
       "</div>"
      ],
      "text/plain": [
       "      gender  age                                id  became_member_on  income\n",
       "0       None  118  68be06ca386d4c31939f3a4f0e3dd783          20170212     NaN\n",
       "2       None  118  38fe809add3b4fcf9315a9694bb96ff5          20180712     NaN\n",
       "4       None  118  a03223e636434f42ac4c3df47e8bac43          20170804     NaN\n",
       "6       None  118  8ec6ce2a7e7949b1bf142def7d0e0586          20170925     NaN\n",
       "7       None  118  68617ca6246f4fbc85e91a2a49552598          20171002     NaN\n",
       "...      ...  ...                               ...               ...     ...\n",
       "16980   None  118  5c686d09ca4d475a8f750f2ba07e0440          20160901     NaN\n",
       "16982   None  118  d9ca82f550ac4ee58b6299cf1e5c824a          20160415     NaN\n",
       "16989   None  118  ca45ee1883624304bac1e4c8a114f045          20180305     NaN\n",
       "16991   None  118  a9a20fa8b5504360beb4e7c8712f8306          20160116     NaN\n",
       "16994   None  118  c02b10e8752c4d8e9b73f918558531f7          20151211     NaN\n",
       "\n",
       "[2175 rows x 5 columns]"
      ]
     },
     "execution_count": 13,
     "metadata": {},
     "output_type": "execute_result"
    }
   ],
   "source": [
    "#analyze the missing gender values\n",
    "df_profile[df_profile['gender'].isna()]"
   ]
  },
  {
   "cell_type": "markdown",
   "id": "beneficial-reunion",
   "metadata": {},
   "source": [
    "An interesting observation here, the customers who have null for gender also have null for income values. In addtion, their age in the dataset is 118 which is unrealistic to have for every single one of them. Before, moving on with imputations, analysing the non-null data will give addtional insights for each of the dimensions."
   ]
  },
  {
   "cell_type": "markdown",
   "id": "japanese-mistake",
   "metadata": {},
   "source": [
    "### Distributions"
   ]
  },
  {
   "cell_type": "code",
   "execution_count": 14,
   "id": "crazy-hampton",
   "metadata": {},
   "outputs": [
    {
     "data": {
      "image/png": "[encoded data removed]",
      "text/plain": [
       "<Figure size 720x360 with 1 Axes>"
      ]
     },
     "metadata": {
      "image/png": {
       "height": 333,
       "width": 615
      }
     },
     "output_type": "display_data"
    }
   ],
   "source": [
    "#Gender distribution\n",
    "bx_plt_df = df_profile[df_profile['age'] != 118]\n",
    "plt.figure(figsize=(10,5))\n",
    "plt.title(\"Gender Distribution\", fontsize = 15)\n",
    "g = sns.countplot(data=bx_plt_df, x = \"gender\", palette=starbucks)"
   ]
  },
  {
   "cell_type": "code",
   "execution_count": 15,
   "id": "informal-chair",
   "metadata": {},
   "outputs": [
    {
     "data": {
      "image/png": "[encoded data removed]",
      "text/plain": [
       "<Figure size 1080x288 with 2 Axes>"
      ]
     },
     "metadata": {
      "image/png": {
       "height": 277,
       "width": 880
      }
     },
     "output_type": "display_data"
    }
   ],
   "source": [
    "#box plots for income and age according to gender\n",
    "fig, axs = plt.subplots(ncols=2, figsize=(15,4))\n",
    "sns.boxplot(x=\"income\", y=\"gender\", data=bx_plt_df, palette=starbucks, ax = axs[0])\n",
    "sns.boxplot(x=\"age\", y=\"gender\", data=bx_plt_df, palette=starbucks, ax = axs[1])\n",
    "axs[0].title.set_text('Income Box Plot for Gender')\n",
    "axs[1].title.set_text('Age Box Plot for Gender')"
   ]
  },
  {
   "cell_type": "markdown",
   "id": "recent-ukraine",
   "metadata": {},
   "source": [
    "Majority of the customers are Male followed by Female & Others. Even if that is the case, Female customers have the highest average income & age when compared to other two groups. The average income & age of Male customers is lowest in all three categories. There are few outliers in the income for Male customers and age of Female customers. However, these outliers seem realistic so keeping them as is makes sense."
   ]
  },
  {
   "cell_type": "code",
   "execution_count": 16,
   "id": "mysterious-legislature",
   "metadata": {},
   "outputs": [
    {
     "data": {
      "text/html": [
       "<div>\n",
       "<style scoped>\n",
       "    .dataframe tbody tr th:only-of-type {\n",
       "        vertical-align: middle;\n",
       "    }\n",
       "\n",
       "    .dataframe tbody tr th {\n",
       "        vertical-align: top;\n",
       "    }\n",
       "\n",
       "    .dataframe thead th {\n",
       "        text-align: right;\n",
       "    }\n",
       "</style>\n",
       "<table border=\"1\" class=\"dataframe\">\n",
       "  <thead>\n",
       "    <tr style=\"text-align: right;\">\n",
       "      <th></th>\n",
       "      <th>gender</th>\n",
       "      <th>age</th>\n",
       "      <th>id</th>\n",
       "      <th>became_member_on</th>\n",
       "      <th>income</th>\n",
       "    </tr>\n",
       "  </thead>\n",
       "  <tbody>\n",
       "    <tr>\n",
       "      <th>0</th>\n",
       "      <td>None</td>\n",
       "      <td>118</td>\n",
       "      <td>68be06ca386d4c31939f3a4f0e3dd783</td>\n",
       "      <td>2017-02-12</td>\n",
       "      <td>NaN</td>\n",
       "    </tr>\n",
       "    <tr>\n",
       "      <th>1</th>\n",
       "      <td>F</td>\n",
       "      <td>55</td>\n",
       "      <td>0610b486422d4921ae7d2bf64640c50b</td>\n",
       "      <td>2017-07-15</td>\n",
       "      <td>112000.0</td>\n",
       "    </tr>\n",
       "  </tbody>\n",
       "</table>\n",
       "</div>"
      ],
      "text/plain": [
       "  gender  age                                id became_member_on    income\n",
       "0   None  118  68be06ca386d4c31939f3a4f0e3dd783       2017-02-12       NaN\n",
       "1      F   55  0610b486422d4921ae7d2bf64640c50b       2017-07-15  112000.0"
      ]
     },
     "execution_count": 16,
     "metadata": {},
     "output_type": "execute_result"
    }
   ],
   "source": [
    "#fix the date format\n",
    "df_profile['became_member_on'] = pd.to_datetime(\n",
    "                                    df_profile['became_member_on'], \n",
    "                                    format='%Y%m%d')\n",
    "df_profile.head(2)"
   ]
  },
  {
   "cell_type": "code",
   "execution_count": 17,
   "id": "refined-festival",
   "metadata": {},
   "outputs": [
    {
     "data": {
      "image/png": "[encoded data removed]",
      "text/plain": [
       "<Figure size 720x360 with 1 Axes>"
      ]
     },
     "metadata": {
      "image/png": {
       "height": 333,
       "width": 615
      }
     },
     "output_type": "display_data"
    }
   ],
   "source": [
    "#visuzlize the years customers became members on\n",
    "plt.figure(figsize=(10,5))\n",
    "plt.title(\"Customer Joining Year\", fontsize = 15)\n",
    "g = sns.countplot(x = df_profile.became_member_on.dt.year, palette=starbucks)"
   ]
  },
  {
   "cell_type": "code",
   "execution_count": 18,
   "id": "bearing-carol",
   "metadata": {},
   "outputs": [
    {
     "data": {
      "text/plain": [
       "10282   2018-07-26\n",
       "12902   2018-07-26\n",
       "1517    2018-07-26\n",
       "Name: became_member_on, dtype: datetime64[ns]"
      ]
     },
     "execution_count": 18,
     "metadata": {},
     "output_type": "execute_result"
    }
   ],
   "source": [
    "#identify lastest few dates in the dataset\n",
    "df_profile[df_profile.became_member_on.dt.year == 2018] \\\n",
    "            [\"became_member_on\"] .sort_values().tail(3)"
   ]
  },
  {
   "cell_type": "markdown",
   "id": "vital-possibility",
   "metadata": {},
   "source": [
    "Number of customers joining over the years have increased except for year 2018. However, this is be due to the fact the data for year 2018 is only till July."
   ]
  },
  {
   "cell_type": "markdown",
   "id": "alive-butterfly",
   "metadata": {},
   "source": [
    "### Imputing the missing values"
   ]
  },
  {
   "cell_type": "markdown",
   "id": "published-miami",
   "metadata": {},
   "source": [
    "1. The missing values for gender will be using mode. Since mode for gender variable is Male (M) the mode will be set to mail.\n",
    "2. For age, 118 will be replaced with nan values.\n",
    "3. Age & Income will be imputed using the median for Male values."
   ]
  },
  {
   "cell_type": "code",
   "execution_count": 19,
   "id": "fabulous-branch",
   "metadata": {},
   "outputs": [],
   "source": [
    "#Impute Gender\n",
    "mode = df_profile['gender'].mode().tolist()[0]\n",
    "df_profile['gender'].fillna(mode, inplace=True)"
   ]
  },
  {
   "cell_type": "code",
   "execution_count": 20,
   "id": "eleven-privacy",
   "metadata": {},
   "outputs": [],
   "source": [
    "#Replace age 118 with nan values\n",
    "df_profile['age'].replace(118, np.nan, inplace=True)\n",
    "\n",
    "#impute age & income values with mean values of male customers\n",
    "male_age_mean = round(df_profile[df_profile['gender'] == \"M\"]['age'].median(), 2)\n",
    "df_profile['age'].fillna(male_age_mean, inplace=True)\n",
    "male_income_mean = round(df_profile[df_profile['gender'] == \"M\"]['income'].median(), 2)\n",
    "df_profile['income'].fillna(male_income_mean, inplace=True)"
   ]
  },
  {
   "cell_type": "code",
   "execution_count": 21,
   "id": "bridal-composer",
   "metadata": {},
   "outputs": [
    {
     "data": {
      "image/png": "[encoded data removed]",
      "text/plain": [
       "<Figure size 1080x288 with 2 Axes>"
      ]
     },
     "metadata": {
      "image/png": {
       "height": 277,
       "width": 880
      }
     },
     "output_type": "display_data"
    }
   ],
   "source": [
    "#distribtion after imputation\n",
    "fig, axs = plt.subplots(ncols=2, figsize=(15,4))\n",
    "sns.boxplot(x=\"income\", y=\"gender\", data=bx_plt_df, palette=starbucks, ax = axs[0])\n",
    "sns.boxplot(x=\"age\", y=\"gender\", data=bx_plt_df, palette=starbucks, ax = axs[1])\n",
    "axs[0].title.set_text('Income Box Plot for Gender After Imputation')\n",
    "axs[1].title.set_text('Age Box Plot for Gender After Imputation')"
   ]
  },
  {
   "cell_type": "markdown",
   "id": "accompanied-definition",
   "metadata": {},
   "source": [
    "## 2.3 Transcripts"
   ]
  },
  {
   "cell_type": "code",
   "execution_count": 22,
   "id": "fleet-clinton",
   "metadata": {},
   "outputs": [
    {
     "data": {
      "text/plain": [
       "person    0.0\n",
       "event     0.0\n",
       "value     0.0\n",
       "time      0.0\n",
       "dtype: float64"
      ]
     },
     "execution_count": 22,
     "metadata": {},
     "output_type": "execute_result"
    }
   ],
   "source": [
    "#check for null values\n",
    "check_null_values(df_transcript)"
   ]
  },
  {
   "cell_type": "code",
   "execution_count": 23,
   "id": "legal-philosophy",
   "metadata": {},
   "outputs": [
    {
     "data": {
      "image/png": "[encoded data removed]",
      "text/plain": [
       "<Figure size 720x360 with 1 Axes>"
      ]
     },
     "metadata": {
      "image/png": {
       "height": 333,
       "width": 626
      }
     },
     "output_type": "display_data"
    }
   ],
   "source": [
    "#plot the events\n",
    "plt.figure(figsize=(10,5))\n",
    "plt.title(\"Events\", fontsize = 15)\n",
    "g = sns.countplot(x = df_transcript.event, \n",
    "                  order = df_transcript['event'].value_counts().index,\n",
    "                  palette=starbucks)"
   ]
  },
  {
   "cell_type": "markdown",
   "id": "embedded-communications",
   "metadata": {},
   "source": [
    "1. Transaction event represents some kind of transaction made by the customer. The transaction can either be amount paid by the customer or it can be reward received by the customer. \n",
    "2. Offer received event occurs when the customer is sent an offer by starbucks, however, this does not mean the customer will view the offer or complete offer.\n",
    "3. Offer viewed is when the customer checks out the offer but may or may not opt in for the offer during the time of transaction.\n",
    "4. Offer completed is when the customer receives the offer, views the offer and opts in during the time of transaction.\n",
    "\n",
    "In addtion, the \"value\" column is in dictonary format. This column has to normalized before further analysis."
   ]
  },
  {
   "cell_type": "markdown",
   "id": "vocational-collaboration",
   "metadata": {},
   "source": [
    "### Normalizing value column"
   ]
  },
  {
   "cell_type": "code",
   "execution_count": 24,
   "id": "according-pressing",
   "metadata": {},
   "outputs": [
    {
     "data": {
      "text/html": [
       "<div>\n",
       "<style scoped>\n",
       "    .dataframe tbody tr th:only-of-type {\n",
       "        vertical-align: middle;\n",
       "    }\n",
       "\n",
       "    .dataframe tbody tr th {\n",
       "        vertical-align: top;\n",
       "    }\n",
       "\n",
       "    .dataframe thead th {\n",
       "        text-align: right;\n",
       "    }\n",
       "</style>\n",
       "<table border=\"1\" class=\"dataframe\">\n",
       "  <thead>\n",
       "    <tr style=\"text-align: right;\">\n",
       "      <th></th>\n",
       "      <th>offer id</th>\n",
       "      <th>amount</th>\n",
       "      <th>offer_id</th>\n",
       "      <th>reward</th>\n",
       "    </tr>\n",
       "  </thead>\n",
       "  <tbody>\n",
       "    <tr>\n",
       "      <th>0</th>\n",
       "      <td>9b98b8c7a33c4b65b9aebfe6a799e6d9</td>\n",
       "      <td>NaN</td>\n",
       "      <td>NaN</td>\n",
       "      <td>NaN</td>\n",
       "    </tr>\n",
       "    <tr>\n",
       "      <th>1</th>\n",
       "      <td>0b1e1539f2cc45b7b9fa7c272da2e1d7</td>\n",
       "      <td>NaN</td>\n",
       "      <td>NaN</td>\n",
       "      <td>NaN</td>\n",
       "    </tr>\n",
       "    <tr>\n",
       "      <th>2</th>\n",
       "      <td>2906b810c7d4411798c6938adc9daaa5</td>\n",
       "      <td>NaN</td>\n",
       "      <td>NaN</td>\n",
       "      <td>NaN</td>\n",
       "    </tr>\n",
       "  </tbody>\n",
       "</table>\n",
       "</div>"
      ],
      "text/plain": [
       "                           offer id  amount offer_id  reward\n",
       "0  9b98b8c7a33c4b65b9aebfe6a799e6d9     NaN      NaN     NaN\n",
       "1  0b1e1539f2cc45b7b9fa7c272da2e1d7     NaN      NaN     NaN\n",
       "2  2906b810c7d4411798c6938adc9daaa5     NaN      NaN     NaN"
      ]
     },
     "execution_count": 24,
     "metadata": {},
     "output_type": "execute_result"
    }
   ],
   "source": [
    "#normalize the value column\n",
    "normalized_values = pd.json_normalize(df_transcript['value'])\n",
    "normalized_values.head(3)"
   ]
  },
  {
   "cell_type": "markdown",
   "id": "patient-confidentiality",
   "metadata": {},
   "source": [
    "The offer id & the offer_id have to be merged together. The amount represents the amount a customer paid during a transaction while the reward represents the reward amount received by the customer after the offer."
   ]
  },
  {
   "cell_type": "code",
   "execution_count": 25,
   "id": "impressed-allocation",
   "metadata": {},
   "outputs": [
    {
     "data": {
      "text/html": [
       "<div>\n",
       "<style scoped>\n",
       "    .dataframe tbody tr th:only-of-type {\n",
       "        vertical-align: middle;\n",
       "    }\n",
       "\n",
       "    .dataframe tbody tr th {\n",
       "        vertical-align: top;\n",
       "    }\n",
       "\n",
       "    .dataframe thead th {\n",
       "        text-align: right;\n",
       "    }\n",
       "</style>\n",
       "<table border=\"1\" class=\"dataframe\">\n",
       "  <thead>\n",
       "    <tr style=\"text-align: right;\">\n",
       "      <th></th>\n",
       "      <th>amount</th>\n",
       "      <th>reward</th>\n",
       "      <th>id_values</th>\n",
       "    </tr>\n",
       "  </thead>\n",
       "  <tbody>\n",
       "    <tr>\n",
       "      <th>0</th>\n",
       "      <td>NaN</td>\n",
       "      <td>NaN</td>\n",
       "      <td>9b98b8c7a33c4b65b9aebfe6a799e6d9</td>\n",
       "    </tr>\n",
       "    <tr>\n",
       "      <th>1</th>\n",
       "      <td>NaN</td>\n",
       "      <td>NaN</td>\n",
       "      <td>0b1e1539f2cc45b7b9fa7c272da2e1d7</td>\n",
       "    </tr>\n",
       "    <tr>\n",
       "      <th>2</th>\n",
       "      <td>NaN</td>\n",
       "      <td>NaN</td>\n",
       "      <td>2906b810c7d4411798c6938adc9daaa5</td>\n",
       "    </tr>\n",
       "  </tbody>\n",
       "</table>\n",
       "</div>"
      ],
      "text/plain": [
       "   amount  reward                         id_values\n",
       "0     NaN     NaN  9b98b8c7a33c4b65b9aebfe6a799e6d9\n",
       "1     NaN     NaN  0b1e1539f2cc45b7b9fa7c272da2e1d7\n",
       "2     NaN     NaN  2906b810c7d4411798c6938adc9daaa5"
      ]
     },
     "execution_count": 25,
     "metadata": {},
     "output_type": "execute_result"
    }
   ],
   "source": [
    "#merge the offer id & offer_id column\n",
    "normalized_values['id_values'] = normalized_values['offer id']\\\n",
    "                                    .fillna(normalized_values['offer_id'])\n",
    "\n",
    "normalized_values.drop(['offer id', 'offer_id'], inplace=True, axis = 1)\n",
    "normalized_values.head(3)"
   ]
  },
  {
   "cell_type": "code",
   "execution_count": 26,
   "id": "sitting-asthma",
   "metadata": {},
   "outputs": [
    {
     "data": {
      "text/html": [
       "<div>\n",
       "<style scoped>\n",
       "    .dataframe tbody tr th:only-of-type {\n",
       "        vertical-align: middle;\n",
       "    }\n",
       "\n",
       "    .dataframe tbody tr th {\n",
       "        vertical-align: top;\n",
       "    }\n",
       "\n",
       "    .dataframe thead th {\n",
       "        text-align: right;\n",
       "    }\n",
       "</style>\n",
       "<table border=\"1\" class=\"dataframe\">\n",
       "  <thead>\n",
       "    <tr style=\"text-align: right;\">\n",
       "      <th></th>\n",
       "      <th>person</th>\n",
       "      <th>event</th>\n",
       "      <th>time</th>\n",
       "      <th>offer_id</th>\n",
       "      <th>amount</th>\n",
       "      <th>rewards</th>\n",
       "    </tr>\n",
       "  </thead>\n",
       "  <tbody>\n",
       "    <tr>\n",
       "      <th>0</th>\n",
       "      <td>78afa995795e4d85b5d9ceeca43f5fef</td>\n",
       "      <td>offer received</td>\n",
       "      <td>0</td>\n",
       "      <td>9b98b8c7a33c4b65b9aebfe6a799e6d9</td>\n",
       "      <td>0.0</td>\n",
       "      <td>0.0</td>\n",
       "    </tr>\n",
       "    <tr>\n",
       "      <th>1</th>\n",
       "      <td>a03223e636434f42ac4c3df47e8bac43</td>\n",
       "      <td>offer received</td>\n",
       "      <td>0</td>\n",
       "      <td>0b1e1539f2cc45b7b9fa7c272da2e1d7</td>\n",
       "      <td>0.0</td>\n",
       "      <td>0.0</td>\n",
       "    </tr>\n",
       "    <tr>\n",
       "      <th>2</th>\n",
       "      <td>e2127556f4f64592b11af22de27a7932</td>\n",
       "      <td>offer received</td>\n",
       "      <td>0</td>\n",
       "      <td>2906b810c7d4411798c6938adc9daaa5</td>\n",
       "      <td>0.0</td>\n",
       "      <td>0.0</td>\n",
       "    </tr>\n",
       "  </tbody>\n",
       "</table>\n",
       "</div>"
      ],
      "text/plain": [
       "                             person           event  time  \\\n",
       "0  78afa995795e4d85b5d9ceeca43f5fef  offer received     0   \n",
       "1  a03223e636434f42ac4c3df47e8bac43  offer received     0   \n",
       "2  e2127556f4f64592b11af22de27a7932  offer received     0   \n",
       "\n",
       "                           offer_id  amount  rewards  \n",
       "0  9b98b8c7a33c4b65b9aebfe6a799e6d9     0.0      0.0  \n",
       "1  0b1e1539f2cc45b7b9fa7c272da2e1d7     0.0      0.0  \n",
       "2  2906b810c7d4411798c6938adc9daaa5     0.0      0.0  "
      ]
     },
     "execution_count": 26,
     "metadata": {},
     "output_type": "execute_result"
    }
   ],
   "source": [
    "#combine the normalized values with the transcript data\n",
    "df_transcript.drop(['value'], inplace = True, axis = 1)\n",
    "df_transcript['offer_id'] = normalized_values['id_values']\n",
    "\n",
    "#combine reward and amount\n",
    "df_transcript['amount'] = normalized_values['amount'].fillna(0)\n",
    "df_transcript['rewards'] = normalized_values['reward'].fillna(0)\n",
    "\n",
    "df_transcript.head(3)"
   ]
  },
  {
   "cell_type": "code",
   "execution_count": 27,
   "id": "weighted-hunter",
   "metadata": {},
   "outputs": [
    {
     "data": {
      "text/plain": [
       "person       0.00\n",
       "event        0.00\n",
       "time         0.00\n",
       "offer_id    45.33\n",
       "amount       0.00\n",
       "rewards      0.00\n",
       "dtype: float64"
      ]
     },
     "execution_count": 27,
     "metadata": {},
     "output_type": "execute_result"
    }
   ],
   "source": [
    "#check for null values\n",
    "check_null_values(df_transcript)"
   ]
  },
  {
   "cell_type": "markdown",
   "id": "hungarian-honduras",
   "metadata": {},
   "source": [
    "The null values in the offer_id can be a result of the customer doing a transaction instead of receiving/vieweing/completing an offer. Therefore, null values should be checked for records where the event is related to an offer."
   ]
  },
  {
   "cell_type": "code",
   "execution_count": 28,
   "id": "alone-metallic",
   "metadata": {},
   "outputs": [
    {
     "data": {
      "text/plain": [
       "person      0.0\n",
       "event       0.0\n",
       "time        0.0\n",
       "offer_id    0.0\n",
       "amount      0.0\n",
       "rewards     0.0\n",
       "dtype: float64"
      ]
     },
     "execution_count": 28,
     "metadata": {},
     "output_type": "execute_result"
    }
   ],
   "source": [
    "check_null_values(df_transcript[df_transcript['event'] != 'transaction'])"
   ]
  },
  {
   "cell_type": "markdown",
   "id": "criminal-berkeley",
   "metadata": {},
   "source": [
    "### Multiple Offer Instances"
   ]
  },
  {
   "cell_type": "markdown",
   "id": "through-kenya",
   "metadata": {},
   "source": [
    "There is possiblity that the customer recevied/viewed same offer multiple times. This has to be investigated as it will have impact on the analysis further."
   ]
  },
  {
   "cell_type": "code",
   "execution_count": 29,
   "id": "difficult-taste",
   "metadata": {},
   "outputs": [
    {
     "data": {
      "text/plain": [
       "person                            offer_id                        \n",
       "2ea50de315514ccaa5079db4c1ecbc0b  fafdcd668e3743c1bb461111dcafc2a4    5\n",
       "6d2db3aad94648259e539920fc2cf2a6  f19421c1d4aa40978ebb69ca19b0e20d    5\n",
       "43a50d7e5c8547a9aa1ec31291b9fc30  0b1e1539f2cc45b7b9fa7c272da2e1d7    5\n",
       "23d67a23296a485781e69c109a10a1cf  5a8bc65990b245e5a138643cd4eb9837    5\n",
       "eece6a9a7bdd4ea1b0f812f34fc619d6  5a8bc65990b245e5a138643cd4eb9837    5\n",
       "Name: offer_id, dtype: int64"
      ]
     },
     "execution_count": 29,
     "metadata": {},
     "output_type": "execute_result"
    }
   ],
   "source": [
    "received_offers = df_transcript[df_transcript['event'] == 'offer received']\n",
    "received_offers.groupby([\"person\", \"offer_id\"])['offer_id'] \\\n",
    "                .count().sort_values(ascending = False).head()"
   ]
  },
  {
   "cell_type": "markdown",
   "id": "handled-language",
   "metadata": {},
   "source": [
    "Since a customer can receive/view/complete an offer multiple times the offer_id is no longer a valid unique identifier for each person. The offer_id column therefore has to be processed to make each offer for each person unique. \n",
    "Example: if a customer receives \"fafdcd668e3743c1bb461111dcafc2a4\" offer twice then the offer will marked as \"fafdcd668e3743c1bb461111dcafc2a4_0\" & \"fafdcd668e3743c1bb461111dcafc2a4_1\" respectively. "
   ]
  },
  {
   "cell_type": "code",
   "execution_count": 30,
   "id": "sought-lincoln",
   "metadata": {},
   "outputs": [
    {
     "data": {
      "text/html": [
       "<div>\n",
       "<style scoped>\n",
       "    .dataframe tbody tr th:only-of-type {\n",
       "        vertical-align: middle;\n",
       "    }\n",
       "\n",
       "    .dataframe tbody tr th {\n",
       "        vertical-align: top;\n",
       "    }\n",
       "\n",
       "    .dataframe thead th {\n",
       "        text-align: right;\n",
       "    }\n",
       "</style>\n",
       "<table border=\"1\" class=\"dataframe\">\n",
       "  <thead>\n",
       "    <tr style=\"text-align: right;\">\n",
       "      <th></th>\n",
       "      <th>person</th>\n",
       "      <th>offer_id</th>\n",
       "      <th>new_offer_ids</th>\n",
       "      <th>event</th>\n",
       "      <th>time</th>\n",
       "    </tr>\n",
       "  </thead>\n",
       "  <tbody>\n",
       "    <tr>\n",
       "      <th>0</th>\n",
       "      <td>78afa995795e4d85b5d9ceeca43f5fef</td>\n",
       "      <td>9b98b8c7a33c4b65b9aebfe6a799e6d9</td>\n",
       "      <td>9b98b8c7a33c4b65b9aebfe6a799e6d9_0</td>\n",
       "      <td>offer received</td>\n",
       "      <td>0</td>\n",
       "    </tr>\n",
       "    <tr>\n",
       "      <th>1</th>\n",
       "      <td>a03223e636434f42ac4c3df47e8bac43</td>\n",
       "      <td>0b1e1539f2cc45b7b9fa7c272da2e1d7</td>\n",
       "      <td>0b1e1539f2cc45b7b9fa7c272da2e1d7_0</td>\n",
       "      <td>offer received</td>\n",
       "      <td>0</td>\n",
       "    </tr>\n",
       "    <tr>\n",
       "      <th>2</th>\n",
       "      <td>e2127556f4f64592b11af22de27a7932</td>\n",
       "      <td>2906b810c7d4411798c6938adc9daaa5</td>\n",
       "      <td>2906b810c7d4411798c6938adc9daaa5_0</td>\n",
       "      <td>offer received</td>\n",
       "      <td>0</td>\n",
       "    </tr>\n",
       "  </tbody>\n",
       "</table>\n",
       "</div>"
      ],
      "text/plain": [
       "                             person                          offer_id  \\\n",
       "0  78afa995795e4d85b5d9ceeca43f5fef  9b98b8c7a33c4b65b9aebfe6a799e6d9   \n",
       "1  a03223e636434f42ac4c3df47e8bac43  0b1e1539f2cc45b7b9fa7c272da2e1d7   \n",
       "2  e2127556f4f64592b11af22de27a7932  2906b810c7d4411798c6938adc9daaa5   \n",
       "\n",
       "                        new_offer_ids           event  time  \n",
       "0  9b98b8c7a33c4b65b9aebfe6a799e6d9_0  offer received     0  \n",
       "1  0b1e1539f2cc45b7b9fa7c272da2e1d7_0  offer received     0  \n",
       "2  2906b810c7d4411798c6938adc9daaa5_0  offer received     0  "
      ]
     },
     "execution_count": 30,
     "metadata": {},
     "output_type": "execute_result"
    }
   ],
   "source": [
    "'''\n",
    "Define two functions to process new offer ids\n",
    "1. To generate unique ids for each offer by person\n",
    "2. To merge the unique ids with each of the offers by person\n",
    "'''\n",
    "\n",
    "def process_ids(offer_df, event_value):\n",
    "    \"\"\"\n",
    "    Function to generate indicators by getting cumulative count for ids from the repeated ids\n",
    "    \n",
    "    INPUT: \n",
    "        1. offer_df(pandas dataframe): unprocessed dataframe containing non-unique offers\n",
    "        2. event_value(string): event for which unique ids have to be generated\n",
    "        \n",
    "    OUTPUT: series with unique ids and person as the index\n",
    "    \"\"\"\n",
    "    #group the dataframe by person and offer_ids and get cumlative count\n",
    "    data = offer_df[offer_df.event == event_value] \\\n",
    "            .groupby(['person', 'offer_id']).cumcount()\n",
    "    \n",
    "    \n",
    "    return data\n",
    "\n",
    "def get_unique_offer_ids(offer_df, event_list):\n",
    "    \"\"\"\n",
    "    Function to get the unique id indicators from process_ids function &\n",
    "    append them to the original ids and store the result into a new column.\n",
    "    \n",
    "    INPUT: \n",
    "        1. offer_df(pandas dataframe): unprocessed dataframe containing non-unique offers\n",
    "        2. event_list(list): list of three events(received, completed, viewed)\n",
    "    \n",
    "    OUTPUT: Processed offer_df with new column having unique ids for each user\n",
    "    \"\"\"\n",
    "    #loop through the events list and process the ids\n",
    "    for e in event_list:\n",
    "        colname = \"new_\" + e.split()[1]\n",
    "        offer_df[colname] = process_ids(offer_df, e)\n",
    "        \n",
    "    #combine into a single column\n",
    "    offer_df['new_ids'] = offer_df[['new_received', 'new_viewed', 'new_completed']] \\\n",
    "                                .max(axis = 1).values\n",
    "    offer_df['new_ids'] = offer_df[\"new_ids\"].astype('Int32')\n",
    "    #create new offer_ids\n",
    "    offer_df['new_offer_ids'] = offer_df['offer_id'] + \"_\" + offer_df['new_ids'].astype(str)\n",
    "    #return the updated dataframe\n",
    "    offer_df = offer_df[['person', 'offer_id', \"new_offer_ids\", 'event', 'time']]\n",
    "    \n",
    "    return offer_df\n",
    "\n",
    "#list of events\n",
    "events = ['offer received', 'offer viewed', 'offer completed']\n",
    "#call the function get_unique_offer_ids to get unique offer ids\n",
    "offer_df = get_unique_offer_ids(df_transcript, events)\n",
    "\n",
    "offer_df.head(3)"
   ]
  },
  {
   "cell_type": "code",
   "execution_count": 31,
   "id": "lovely-astrology",
   "metadata": {},
   "outputs": [
    {
     "data": {
      "text/plain": [
       "person                            new_offer_ids                     \n",
       "0009655768c64bdeb2e877511632db8f  2906b810c7d4411798c6938adc9daaa5_0    1\n",
       "a93b655903f249c7bc074c0b4b69f52e  2906b810c7d4411798c6938adc9daaa5_0    1\n",
       "a938c3fd37a74118be0f298145aed07d  2906b810c7d4411798c6938adc9daaa5_1    1\n",
       "                                  2906b810c7d4411798c6938adc9daaa5_0    1\n",
       "                                  0b1e1539f2cc45b7b9fa7c272da2e1d7_1    1\n",
       "Name: offer_id, dtype: int64"
      ]
     },
     "execution_count": 31,
     "metadata": {},
     "output_type": "execute_result"
    }
   ],
   "source": [
    "#check if there are any repeated offer_ids\n",
    "received_offers = offer_df[offer_df['event'] == 'offer received']\n",
    "received_offers.groupby([\"person\", \"new_offer_ids\"])['offer_id'] \\\n",
    "                .count().sort_values(ascending = False).head()"
   ]
  },
  {
   "cell_type": "markdown",
   "id": "theoretical-terrorism",
   "metadata": {},
   "source": [
    "### Padding time column"
   ]
  },
  {
   "cell_type": "markdown",
   "id": "welcome-conservative",
   "metadata": {},
   "source": [
    "Now there are unique offer ids for each person. The time column represents time in hours and starts with t = 0. However, going forward, 0 will be used to to fill null values in other words the value of 0 is to indicate nothing. Therefore, the time dimension has to be padded with extra 0.5 to make the t=0 relevant for further analysis."
   ]
  },
  {
   "cell_type": "code",
   "execution_count": 32,
   "id": "municipal-sugar",
   "metadata": {},
   "outputs": [
    {
     "data": {
      "text/html": [
       "<div>\n",
       "<style scoped>\n",
       "    .dataframe tbody tr th:only-of-type {\n",
       "        vertical-align: middle;\n",
       "    }\n",
       "\n",
       "    .dataframe tbody tr th {\n",
       "        vertical-align: top;\n",
       "    }\n",
       "\n",
       "    .dataframe thead th {\n",
       "        text-align: right;\n",
       "    }\n",
       "</style>\n",
       "<table border=\"1\" class=\"dataframe\">\n",
       "  <thead>\n",
       "    <tr style=\"text-align: right;\">\n",
       "      <th></th>\n",
       "      <th>person</th>\n",
       "      <th>offer_id</th>\n",
       "      <th>new_offer_ids</th>\n",
       "      <th>event</th>\n",
       "      <th>time</th>\n",
       "    </tr>\n",
       "  </thead>\n",
       "  <tbody>\n",
       "    <tr>\n",
       "      <th>0</th>\n",
       "      <td>78afa995795e4d85b5d9ceeca43f5fef</td>\n",
       "      <td>9b98b8c7a33c4b65b9aebfe6a799e6d9</td>\n",
       "      <td>9b98b8c7a33c4b65b9aebfe6a799e6d9_0</td>\n",
       "      <td>offer received</td>\n",
       "      <td>0.5</td>\n",
       "    </tr>\n",
       "    <tr>\n",
       "      <th>1</th>\n",
       "      <td>a03223e636434f42ac4c3df47e8bac43</td>\n",
       "      <td>0b1e1539f2cc45b7b9fa7c272da2e1d7</td>\n",
       "      <td>0b1e1539f2cc45b7b9fa7c272da2e1d7_0</td>\n",
       "      <td>offer received</td>\n",
       "      <td>0.5</td>\n",
       "    </tr>\n",
       "  </tbody>\n",
       "</table>\n",
       "</div>"
      ],
      "text/plain": [
       "                             person                          offer_id  \\\n",
       "0  78afa995795e4d85b5d9ceeca43f5fef  9b98b8c7a33c4b65b9aebfe6a799e6d9   \n",
       "1  a03223e636434f42ac4c3df47e8bac43  0b1e1539f2cc45b7b9fa7c272da2e1d7   \n",
       "\n",
       "                        new_offer_ids           event  time  \n",
       "0  9b98b8c7a33c4b65b9aebfe6a799e6d9_0  offer received   0.5  \n",
       "1  0b1e1539f2cc45b7b9fa7c272da2e1d7_0  offer received   0.5  "
      ]
     },
     "execution_count": 32,
     "metadata": {},
     "output_type": "execute_result"
    }
   ],
   "source": [
    "#add extra 0.5 to the time\n",
    "offer_df['time'] = offer_df['time'] + 0.5\n",
    "offer_df.head(2)"
   ]
  },
  {
   "cell_type": "code",
   "execution_count": 33,
   "id": "damaged-montgomery",
   "metadata": {},
   "outputs": [
    {
     "data": {
      "text/plain": [
       "person            0.00\n",
       "offer_id         45.33\n",
       "new_offer_ids    45.33\n",
       "event             0.00\n",
       "time              0.00\n",
       "dtype: float64"
      ]
     },
     "execution_count": 33,
     "metadata": {},
     "output_type": "execute_result"
    }
   ],
   "source": [
    "#check for null values\n",
    "check_null_values(offer_df)"
   ]
  },
  {
   "cell_type": "markdown",
   "id": "occupied-keyboard",
   "metadata": {},
   "source": [
    "## 3. Data Wrangling "
   ]
  },
  {
   "cell_type": "markdown",
   "id": "potential-helicopter",
   "metadata": {},
   "source": [
    "Data Wrangling is the process of selecting & transforming the data into format suitable for analytical purpose. This step will take considerable amount of time and will use the cleaned data from the data cleansing section. Since there are considerable amount of transformations to be performed, to keep things clean, I have defined a class \"Transformation\" in another file helper.py which will include all the relevant functions to perform the required transformations."
   ]
  },
  {
   "cell_type": "markdown",
   "id": "acting-peoples",
   "metadata": {},
   "source": [
    "### Compute times for each event"
   ]
  },
  {
   "cell_type": "code",
   "execution_count": 34,
   "id": "magnetic-professional",
   "metadata": {},
   "outputs": [
    {
     "data": {
      "text/html": [
       "<div>\n",
       "<style scoped>\n",
       "    .dataframe tbody tr th:only-of-type {\n",
       "        vertical-align: middle;\n",
       "    }\n",
       "\n",
       "    .dataframe tbody tr th {\n",
       "        vertical-align: top;\n",
       "    }\n",
       "\n",
       "    .dataframe thead th {\n",
       "        text-align: right;\n",
       "    }\n",
       "</style>\n",
       "<table border=\"1\" class=\"dataframe\">\n",
       "  <thead>\n",
       "    <tr style=\"text-align: right;\">\n",
       "      <th></th>\n",
       "      <th>person</th>\n",
       "      <th>offer_id</th>\n",
       "      <th>new_offer_ids</th>\n",
       "      <th>time</th>\n",
       "      <th>offer_completed</th>\n",
       "      <th>offer_received</th>\n",
       "      <th>offer_viewed</th>\n",
       "      <th>event_transaction</th>\n",
       "    </tr>\n",
       "  </thead>\n",
       "  <tbody>\n",
       "    <tr>\n",
       "      <th>0</th>\n",
       "      <td>78afa995795e4d85b5d9ceeca43f5fef</td>\n",
       "      <td>9b98b8c7a33c4b65b9aebfe6a799e6d9</td>\n",
       "      <td>9b98b8c7a33c4b65b9aebfe6a799e6d9_0</td>\n",
       "      <td>0.5</td>\n",
       "      <td>0</td>\n",
       "      <td>1</td>\n",
       "      <td>0</td>\n",
       "      <td>0</td>\n",
       "    </tr>\n",
       "    <tr>\n",
       "      <th>1</th>\n",
       "      <td>a03223e636434f42ac4c3df47e8bac43</td>\n",
       "      <td>0b1e1539f2cc45b7b9fa7c272da2e1d7</td>\n",
       "      <td>0b1e1539f2cc45b7b9fa7c272da2e1d7_0</td>\n",
       "      <td>0.5</td>\n",
       "      <td>0</td>\n",
       "      <td>1</td>\n",
       "      <td>0</td>\n",
       "      <td>0</td>\n",
       "    </tr>\n",
       "    <tr>\n",
       "      <th>2</th>\n",
       "      <td>e2127556f4f64592b11af22de27a7932</td>\n",
       "      <td>2906b810c7d4411798c6938adc9daaa5</td>\n",
       "      <td>2906b810c7d4411798c6938adc9daaa5_0</td>\n",
       "      <td>0.5</td>\n",
       "      <td>0</td>\n",
       "      <td>1</td>\n",
       "      <td>0</td>\n",
       "      <td>0</td>\n",
       "    </tr>\n",
       "  </tbody>\n",
       "</table>\n",
       "</div>"
      ],
      "text/plain": [
       "                             person                          offer_id  \\\n",
       "0  78afa995795e4d85b5d9ceeca43f5fef  9b98b8c7a33c4b65b9aebfe6a799e6d9   \n",
       "1  a03223e636434f42ac4c3df47e8bac43  0b1e1539f2cc45b7b9fa7c272da2e1d7   \n",
       "2  e2127556f4f64592b11af22de27a7932  2906b810c7d4411798c6938adc9daaa5   \n",
       "\n",
       "                        new_offer_ids  time  offer_completed  offer_received  \\\n",
       "0  9b98b8c7a33c4b65b9aebfe6a799e6d9_0   0.5                0               1   \n",
       "1  0b1e1539f2cc45b7b9fa7c272da2e1d7_0   0.5                0               1   \n",
       "2  2906b810c7d4411798c6938adc9daaa5_0   0.5                0               1   \n",
       "\n",
       "   offer_viewed  event_transaction  \n",
       "0             0                  0  \n",
       "1             0                  0  \n",
       "2             0                  0  "
      ]
     },
     "execution_count": 34,
     "metadata": {},
     "output_type": "execute_result"
    }
   ],
   "source": [
    "\"One-hot encode the events from offers dataframe\"\n",
    "#get the dummies\n",
    "offer_df = pd.get_dummies(data = offer_df, columns=[\"event\"])\n",
    "#rename the columns\n",
    "offer_df = offer_df.rename(columns = {\n",
    "                        \"event_offer completed\" : \"offer_completed\", \n",
    "                        \"event_offer received\" : \"offer_received\",\n",
    "                        \"event_offer viewed\" : \"offer_viewed\"})\n",
    "\n",
    "offer_df.head(3)"
   ]
  },
  {
   "cell_type": "markdown",
   "id": "suspended-elephant",
   "metadata": {},
   "source": [
    "Now that the event dimension is one hot encoded the next step is to get the received-viewed-completed time for each of the unique offer by person. To do this the get_offer_times function from the Transformation class will used."
   ]
  },
  {
   "cell_type": "code",
   "execution_count": 35,
   "id": "controlling-duration",
   "metadata": {},
   "outputs": [
    {
     "data": {
      "text/html": [
       "<div>\n",
       "<style scoped>\n",
       "    .dataframe tbody tr th:only-of-type {\n",
       "        vertical-align: middle;\n",
       "    }\n",
       "\n",
       "    .dataframe tbody tr th {\n",
       "        vertical-align: top;\n",
       "    }\n",
       "\n",
       "    .dataframe thead th {\n",
       "        text-align: right;\n",
       "    }\n",
       "</style>\n",
       "<table border=\"1\" class=\"dataframe\">\n",
       "  <thead>\n",
       "    <tr style=\"text-align: right;\">\n",
       "      <th></th>\n",
       "      <th>person</th>\n",
       "      <th>new_offer_ids</th>\n",
       "      <th>received_time</th>\n",
       "      <th>viewed_time</th>\n",
       "      <th>completed_time</th>\n",
       "    </tr>\n",
       "  </thead>\n",
       "  <tbody>\n",
       "    <tr>\n",
       "      <th>0</th>\n",
       "      <td>0009655768c64bdeb2e877511632db8f</td>\n",
       "      <td>2906b810c7d4411798c6938adc9daaa5_0</td>\n",
       "      <td>576.5</td>\n",
       "      <td>0.0</td>\n",
       "      <td>576.5</td>\n",
       "    </tr>\n",
       "    <tr>\n",
       "      <th>1</th>\n",
       "      <td>0009655768c64bdeb2e877511632db8f</td>\n",
       "      <td>3f207df678b143eea3cee63160fa8bed_0</td>\n",
       "      <td>336.5</td>\n",
       "      <td>372.5</td>\n",
       "      <td>0.0</td>\n",
       "    </tr>\n",
       "    <tr>\n",
       "      <th>2</th>\n",
       "      <td>0009655768c64bdeb2e877511632db8f</td>\n",
       "      <td>5a8bc65990b245e5a138643cd4eb9837_0</td>\n",
       "      <td>168.5</td>\n",
       "      <td>192.5</td>\n",
       "      <td>0.0</td>\n",
       "    </tr>\n",
       "  </tbody>\n",
       "</table>\n",
       "</div>"
      ],
      "text/plain": [
       "                             person                       new_offer_ids  \\\n",
       "0  0009655768c64bdeb2e877511632db8f  2906b810c7d4411798c6938adc9daaa5_0   \n",
       "1  0009655768c64bdeb2e877511632db8f  3f207df678b143eea3cee63160fa8bed_0   \n",
       "2  0009655768c64bdeb2e877511632db8f  5a8bc65990b245e5a138643cd4eb9837_0   \n",
       "\n",
       "   received_time  viewed_time  completed_time  \n",
       "0          576.5          0.0           576.5  \n",
       "1          336.5        372.5             0.0  \n",
       "2          168.5        192.5             0.0  "
      ]
     },
     "execution_count": 35,
     "metadata": {},
     "output_type": "execute_result"
    }
   ],
   "source": [
    "#call the function to get individual times\n",
    "w_offer_df = Transformation.get_offer_time(offer_df)\n",
    "w_offer_df.head(3)"
   ]
  },
  {
   "cell_type": "code",
   "execution_count": 36,
   "id": "controversial-letter",
   "metadata": {
    "scrolled": true
   },
   "outputs": [
    {
     "data": {
      "text/plain": [
       "person            0.0\n",
       "new_offer_ids     0.0\n",
       "received_time     0.0\n",
       "viewed_time       0.0\n",
       "completed_time    0.0\n",
       "dtype: float64"
      ]
     },
     "execution_count": 36,
     "metadata": {},
     "output_type": "execute_result"
    }
   ],
   "source": [
    "check_null_values(w_offer_df)"
   ]
  },
  {
   "cell_type": "markdown",
   "id": "lightweight-speaking",
   "metadata": {},
   "source": [
    "### Process Valid Transactions"
   ]
  },
  {
   "cell_type": "markdown",
   "id": "adapted-fountain",
   "metadata": {},
   "source": [
    "For an offer transaction to be considered valid it has to satisfy the following conditions:\n",
    "   1. For an offer to be counted as “viewed” & \"completed\" it had to be viewed before offer expiration date.\n",
    "   2. An invalid offer completed transaction is an offer completed status without beign viewed.\n",
    "   3. An invalid offer completed transaction is also an offer completed without viewing the transaction.\n",
    "   4. An invalid viewed offer transaction would be an offer viewed before even receiving the offer.\n",
    "   \n",
    "In order to filter out these invalid offer transactions,get_valid_offers from the Transformation class will be used. However, before that a new columns has to be calculated \"end_time\" representing the offer end time for each individual customer. End time of the offer is offer received time + the duration of the offer. But the duration is from portfolio data & the column is in the days format, this column has to be convert to hours to be consistent with other time format before merging the frame with w_offer_df."
   ]
  },
  {
   "cell_type": "code",
   "execution_count": 37,
   "id": "accepting-transition",
   "metadata": {},
   "outputs": [
    {
     "data": {
      "text/html": [
       "<div>\n",
       "<style scoped>\n",
       "    .dataframe tbody tr th:only-of-type {\n",
       "        vertical-align: middle;\n",
       "    }\n",
       "\n",
       "    .dataframe tbody tr th {\n",
       "        vertical-align: top;\n",
       "    }\n",
       "\n",
       "    .dataframe thead th {\n",
       "        text-align: right;\n",
       "    }\n",
       "</style>\n",
       "<table border=\"1\" class=\"dataframe\">\n",
       "  <thead>\n",
       "    <tr style=\"text-align: right;\">\n",
       "      <th></th>\n",
       "      <th>person</th>\n",
       "      <th>offer_id</th>\n",
       "      <th>new_offer_ids</th>\n",
       "      <th>offer_type</th>\n",
       "      <th>received_time</th>\n",
       "      <th>viewed_time</th>\n",
       "      <th>completed_time</th>\n",
       "      <th>duration</th>\n",
       "    </tr>\n",
       "  </thead>\n",
       "  <tbody>\n",
       "    <tr>\n",
       "      <th>0</th>\n",
       "      <td>0009655768c64bdeb2e877511632db8f</td>\n",
       "      <td>2906b810c7d4411798c6938adc9daaa5</td>\n",
       "      <td>2906b810c7d4411798c6938adc9daaa5_0</td>\n",
       "      <td>discount</td>\n",
       "      <td>576.5</td>\n",
       "      <td>0.0</td>\n",
       "      <td>576.5</td>\n",
       "      <td>168</td>\n",
       "    </tr>\n",
       "  </tbody>\n",
       "</table>\n",
       "</div>"
      ],
      "text/plain": [
       "                             person                          offer_id  \\\n",
       "0  0009655768c64bdeb2e877511632db8f  2906b810c7d4411798c6938adc9daaa5   \n",
       "\n",
       "                        new_offer_ids offer_type  received_time  viewed_time  \\\n",
       "0  2906b810c7d4411798c6938adc9daaa5_0   discount          576.5          0.0   \n",
       "\n",
       "   completed_time  duration  \n",
       "0           576.5       168  "
      ]
     },
     "execution_count": 37,
     "metadata": {},
     "output_type": "execute_result"
    }
   ],
   "source": [
    "#convert the duration to hours from days\n",
    "df_portfolio['duration'] = df_portfolio['duration'] * 24\n",
    "\n",
    "#convert the ids back to their original form\n",
    "w_offer_df['offer_id'] = w_offer_df['new_offer_ids'].str.split(\"_\").str[0]\n",
    "#merge the duration column with the w_offer_df dataframe\n",
    "m_offer_df = w_offer_df.merge(\n",
    "                df_portfolio[['offer_id', 'duration', 'offer_type']],\n",
    "                on =\"offer_id\",\n",
    "                how=\"left\")\n",
    "\n",
    "#rearange the columns\n",
    "colnames = [\n",
    "    'person', 'offer_id', 'new_offer_ids','offer_type', \n",
    "    'received_time','viewed_time','completed_time', 'duration']\n",
    "m_offer_df = m_offer_df[colnames]\n",
    "\n",
    "m_offer_df.head(1)"
   ]
  },
  {
   "cell_type": "code",
   "execution_count": 38,
   "id": "fancy-backup",
   "metadata": {},
   "outputs": [
    {
     "name": "stdout",
     "output_type": "stream",
     "text": [
      "Shape of dataframe before filtering: (76277, 8)\n",
      "Shape of dataframe after filtering: (66277, 8)\n"
     ]
    },
    {
     "data": {
      "text/html": [
       "<div>\n",
       "<style scoped>\n",
       "    .dataframe tbody tr th:only-of-type {\n",
       "        vertical-align: middle;\n",
       "    }\n",
       "\n",
       "    .dataframe tbody tr th {\n",
       "        vertical-align: top;\n",
       "    }\n",
       "\n",
       "    .dataframe thead th {\n",
       "        text-align: right;\n",
       "    }\n",
       "</style>\n",
       "<table border=\"1\" class=\"dataframe\">\n",
       "  <thead>\n",
       "    <tr style=\"text-align: right;\">\n",
       "      <th></th>\n",
       "      <th>person</th>\n",
       "      <th>offer_id</th>\n",
       "      <th>new_offer_ids</th>\n",
       "      <th>offer_type</th>\n",
       "      <th>received_time</th>\n",
       "      <th>viewed_time</th>\n",
       "      <th>completed_time</th>\n",
       "      <th>end_time</th>\n",
       "    </tr>\n",
       "  </thead>\n",
       "  <tbody>\n",
       "    <tr>\n",
       "      <th>1</th>\n",
       "      <td>0009655768c64bdeb2e877511632db8f</td>\n",
       "      <td>3f207df678b143eea3cee63160fa8bed</td>\n",
       "      <td>3f207df678b143eea3cee63160fa8bed_0</td>\n",
       "      <td>informational</td>\n",
       "      <td>336.5</td>\n",
       "      <td>372.5</td>\n",
       "      <td>0.0</td>\n",
       "      <td>432.5</td>\n",
       "    </tr>\n",
       "    <tr>\n",
       "      <th>2</th>\n",
       "      <td>0009655768c64bdeb2e877511632db8f</td>\n",
       "      <td>5a8bc65990b245e5a138643cd4eb9837</td>\n",
       "      <td>5a8bc65990b245e5a138643cd4eb9837_0</td>\n",
       "      <td>informational</td>\n",
       "      <td>168.5</td>\n",
       "      <td>192.5</td>\n",
       "      <td>0.0</td>\n",
       "      <td>240.5</td>\n",
       "    </tr>\n",
       "    <tr>\n",
       "      <th>5</th>\n",
       "      <td>00116118485d4dfda04fdbaba9a87b5c</td>\n",
       "      <td>f19421c1d4aa40978ebb69ca19b0e20d</td>\n",
       "      <td>f19421c1d4aa40978ebb69ca19b0e20d_0</td>\n",
       "      <td>bogo</td>\n",
       "      <td>168.5</td>\n",
       "      <td>216.5</td>\n",
       "      <td>0.0</td>\n",
       "      <td>288.5</td>\n",
       "    </tr>\n",
       "  </tbody>\n",
       "</table>\n",
       "</div>"
      ],
      "text/plain": [
       "                             person                          offer_id  \\\n",
       "1  0009655768c64bdeb2e877511632db8f  3f207df678b143eea3cee63160fa8bed   \n",
       "2  0009655768c64bdeb2e877511632db8f  5a8bc65990b245e5a138643cd4eb9837   \n",
       "5  00116118485d4dfda04fdbaba9a87b5c  f19421c1d4aa40978ebb69ca19b0e20d   \n",
       "\n",
       "                        new_offer_ids     offer_type  received_time  \\\n",
       "1  3f207df678b143eea3cee63160fa8bed_0  informational          336.5   \n",
       "2  5a8bc65990b245e5a138643cd4eb9837_0  informational          168.5   \n",
       "5  f19421c1d4aa40978ebb69ca19b0e20d_0           bogo          168.5   \n",
       "\n",
       "   viewed_time  completed_time  end_time  \n",
       "1        372.5             0.0     432.5  \n",
       "2        192.5             0.0     240.5  \n",
       "5        216.5             0.0     288.5  "
      ]
     },
     "execution_count": 38,
     "metadata": {},
     "output_type": "execute_result"
    }
   ],
   "source": [
    "#calculate the offer end time\n",
    "m_offer_df['end_time'] = m_offer_df['received_time'] \\\n",
    "                        + m_offer_df['duration']\n",
    "#drop the duration column\n",
    "m_offer_df.drop(\"duration\", inplace=True, axis = 1)\n",
    "\n",
    "#call the function filter out the invalid offers\n",
    "print(\"Shape of dataframe before filtering: \" + str(m_offer_df.shape))\n",
    "m_offer_df = Transformation.get_valid_offers(m_offer_df)\n",
    "\n",
    "print(\"Shape of dataframe after filtering: \" + str(m_offer_df.shape))\n",
    "m_offer_df.head(3)"
   ]
  },
  {
   "cell_type": "markdown",
   "id": "sensitive-wallace",
   "metadata": {},
   "source": [
    "### View Rate & Completion Rate"
   ]
  },
  {
   "cell_type": "markdown",
   "id": "scenic-representation",
   "metadata": {},
   "source": [
    "The aim is to wrangle data pertaining to each customer so that the customers can be segmented accordingly later. Therefore, each of the calculations should be merged with assoicated customers in the profile dataframe. Setting customer id to index will help to make it easier. "
   ]
  },
  {
   "cell_type": "code",
   "execution_count": 39,
   "id": "least-magic",
   "metadata": {},
   "outputs": [
    {
     "name": "stdout",
     "output_type": "stream",
     "text": [
      "Shape of the dataframe is: (17000, 4)\n"
     ]
    },
    {
     "data": {
      "text/html": [
       "<div>\n",
       "<style scoped>\n",
       "    .dataframe tbody tr th:only-of-type {\n",
       "        vertical-align: middle;\n",
       "    }\n",
       "\n",
       "    .dataframe tbody tr th {\n",
       "        vertical-align: top;\n",
       "    }\n",
       "\n",
       "    .dataframe thead th {\n",
       "        text-align: right;\n",
       "    }\n",
       "</style>\n",
       "<table border=\"1\" class=\"dataframe\">\n",
       "  <thead>\n",
       "    <tr style=\"text-align: right;\">\n",
       "      <th></th>\n",
       "      <th>gender</th>\n",
       "      <th>age</th>\n",
       "      <th>became_member_on</th>\n",
       "      <th>income</th>\n",
       "    </tr>\n",
       "    <tr>\n",
       "      <th>person</th>\n",
       "      <th></th>\n",
       "      <th></th>\n",
       "      <th></th>\n",
       "      <th></th>\n",
       "    </tr>\n",
       "  </thead>\n",
       "  <tbody>\n",
       "    <tr>\n",
       "      <th>68be06ca386d4c31939f3a4f0e3dd783</th>\n",
       "      <td>M</td>\n",
       "      <td>53.0</td>\n",
       "      <td>2017-02-12</td>\n",
       "      <td>59000.0</td>\n",
       "    </tr>\n",
       "    <tr>\n",
       "      <th>0610b486422d4921ae7d2bf64640c50b</th>\n",
       "      <td>F</td>\n",
       "      <td>55.0</td>\n",
       "      <td>2017-07-15</td>\n",
       "      <td>112000.0</td>\n",
       "    </tr>\n",
       "  </tbody>\n",
       "</table>\n",
       "</div>"
      ],
      "text/plain": [
       "                                 gender   age became_member_on    income\n",
       "person                                                                  \n",
       "68be06ca386d4c31939f3a4f0e3dd783      M  53.0       2017-02-12   59000.0\n",
       "0610b486422d4921ae7d2bf64640c50b      F  55.0       2017-07-15  112000.0"
      ]
     },
     "execution_count": 39,
     "metadata": {},
     "output_type": "execute_result"
    }
   ],
   "source": [
    "#rename id in profile dataframe and set it as the index\n",
    "df_profile.rename(columns={\"id\" : \"person\"}, inplace=True)\n",
    "customer_df = df_profile.set_index(\"person\")\n",
    "print(\"Shape of the dataframe is: \" + str(customer_df.shape))\n",
    "customer_df.head(2)"
   ]
  },
  {
   "cell_type": "markdown",
   "id": "automated-alignment",
   "metadata": {},
   "source": [
    "Next step is to calculate conversion rate & view rate for each offer as well as total offers by customers. The get_offer_rate function from the Transformation class will be used to calculate these rates for each of the customers. The function will calculate rates for each individual customer and merge them with the customer dataframe. These rates are caculated as follows:\n",
    "1. View Rate = offers viewed on time / offers recevied \n",
    "2. Conversion Rate = offers completed on time / offers viewed on time"
   ]
  },
  {
   "cell_type": "code",
   "execution_count": 40,
   "id": "substantial-shelf",
   "metadata": {
    "scrolled": false
   },
   "outputs": [
    {
     "name": "stdout",
     "output_type": "stream",
     "text": [
      "Shape of the dataframe is: (17000, 10)\n"
     ]
    },
    {
     "data": {
      "text/html": [
       "<div>\n",
       "<style scoped>\n",
       "    .dataframe tbody tr th:only-of-type {\n",
       "        vertical-align: middle;\n",
       "    }\n",
       "\n",
       "    .dataframe tbody tr th {\n",
       "        vertical-align: top;\n",
       "    }\n",
       "\n",
       "    .dataframe thead th {\n",
       "        text-align: right;\n",
       "    }\n",
       "</style>\n",
       "<table border=\"1\" class=\"dataframe\">\n",
       "  <thead>\n",
       "    <tr style=\"text-align: right;\">\n",
       "      <th></th>\n",
       "      <th>gender</th>\n",
       "      <th>age</th>\n",
       "      <th>became_member_on</th>\n",
       "      <th>income</th>\n",
       "      <th>informational_vr</th>\n",
       "      <th>informational_cr</th>\n",
       "      <th>bogo_vr</th>\n",
       "      <th>bogo_cr</th>\n",
       "      <th>discount_vr</th>\n",
       "      <th>discount_cr</th>\n",
       "    </tr>\n",
       "    <tr>\n",
       "      <th>person</th>\n",
       "      <th></th>\n",
       "      <th></th>\n",
       "      <th></th>\n",
       "      <th></th>\n",
       "      <th></th>\n",
       "      <th></th>\n",
       "      <th></th>\n",
       "      <th></th>\n",
       "      <th></th>\n",
       "      <th></th>\n",
       "    </tr>\n",
       "  </thead>\n",
       "  <tbody>\n",
       "    <tr>\n",
       "      <th>68be06ca386d4c31939f3a4f0e3dd783</th>\n",
       "      <td>M</td>\n",
       "      <td>53.0</td>\n",
       "      <td>2017-02-12</td>\n",
       "      <td>59000.0</td>\n",
       "      <td>0.0</td>\n",
       "      <td>0.0</td>\n",
       "      <td>0.0</td>\n",
       "      <td>0.0</td>\n",
       "      <td>1.0</td>\n",
       "      <td>0.4</td>\n",
       "    </tr>\n",
       "    <tr>\n",
       "      <th>0610b486422d4921ae7d2bf64640c50b</th>\n",
       "      <td>F</td>\n",
       "      <td>55.0</td>\n",
       "      <td>2017-07-15</td>\n",
       "      <td>112000.0</td>\n",
       "      <td>0.0</td>\n",
       "      <td>0.0</td>\n",
       "      <td>0.0</td>\n",
       "      <td>0.0</td>\n",
       "      <td>0.0</td>\n",
       "      <td>0.0</td>\n",
       "    </tr>\n",
       "    <tr>\n",
       "      <th>38fe809add3b4fcf9315a9694bb96ff5</th>\n",
       "      <td>M</td>\n",
       "      <td>53.0</td>\n",
       "      <td>2018-07-12</td>\n",
       "      <td>59000.0</td>\n",
       "      <td>1.0</td>\n",
       "      <td>0.0</td>\n",
       "      <td>1.0</td>\n",
       "      <td>0.0</td>\n",
       "      <td>0.0</td>\n",
       "      <td>0.0</td>\n",
       "    </tr>\n",
       "  </tbody>\n",
       "</table>\n",
       "</div>"
      ],
      "text/plain": [
       "                                 gender   age became_member_on    income  \\\n",
       "person                                                                     \n",
       "68be06ca386d4c31939f3a4f0e3dd783      M  53.0       2017-02-12   59000.0   \n",
       "0610b486422d4921ae7d2bf64640c50b      F  55.0       2017-07-15  112000.0   \n",
       "38fe809add3b4fcf9315a9694bb96ff5      M  53.0       2018-07-12   59000.0   \n",
       "\n",
       "                                  informational_vr  informational_cr  bogo_vr  \\\n",
       "person                                                                          \n",
       "68be06ca386d4c31939f3a4f0e3dd783               0.0               0.0      0.0   \n",
       "0610b486422d4921ae7d2bf64640c50b               0.0               0.0      0.0   \n",
       "38fe809add3b4fcf9315a9694bb96ff5               1.0               0.0      1.0   \n",
       "\n",
       "                                  bogo_cr  discount_vr  discount_cr  \n",
       "person                                                               \n",
       "68be06ca386d4c31939f3a4f0e3dd783      0.0          1.0          0.4  \n",
       "0610b486422d4921ae7d2bf64640c50b      0.0          0.0          0.0  \n",
       "38fe809add3b4fcf9315a9694bb96ff5      0.0          0.0          0.0  "
      ]
     },
     "execution_count": 40,
     "metadata": {},
     "output_type": "execute_result"
    }
   ],
   "source": [
    "#get all the rates\n",
    "rated_cust_df = Transformation.get_offer_rates(m_offer_df, customer_df)\n",
    "\n",
    "print(\"Shape of the dataframe is: \" + str(rated_cust_df.shape))\n",
    "rated_cust_df.head(3)"
   ]
  },
  {
   "cell_type": "markdown",
   "id": "hawaiian-sustainability",
   "metadata": {},
   "source": [
    "### Count of each event for each offer"
   ]
  },
  {
   "cell_type": "markdown",
   "id": "boxed-scope",
   "metadata": {},
   "source": [
    "Each individual event recevied/viewed/completed will be counted against each offer type bogo, discount, informational. In addtion, informational offers do not have any completed event assosiated to them, since their sole purpuse is to convey information they only go through the received and viewed phase."
   ]
  },
  {
   "cell_type": "code",
   "execution_count": 41,
   "id": "wrong-found",
   "metadata": {
    "scrolled": true
   },
   "outputs": [
    {
     "name": "stdout",
     "output_type": "stream",
     "text": [
      "Shape of the dataframe is: (17000, 18)\n"
     ]
    },
    {
     "data": {
      "text/html": [
       "<div>\n",
       "<style scoped>\n",
       "    .dataframe tbody tr th:only-of-type {\n",
       "        vertical-align: middle;\n",
       "    }\n",
       "\n",
       "    .dataframe tbody tr th {\n",
       "        vertical-align: top;\n",
       "    }\n",
       "\n",
       "    .dataframe thead th {\n",
       "        text-align: right;\n",
       "    }\n",
       "</style>\n",
       "<table border=\"1\" class=\"dataframe\">\n",
       "  <thead>\n",
       "    <tr style=\"text-align: right;\">\n",
       "      <th></th>\n",
       "      <th>gender</th>\n",
       "      <th>age</th>\n",
       "      <th>became_member_on</th>\n",
       "      <th>income</th>\n",
       "      <th>informational_vr</th>\n",
       "      <th>informational_cr</th>\n",
       "      <th>bogo_vr</th>\n",
       "      <th>bogo_cr</th>\n",
       "      <th>discount_vr</th>\n",
       "      <th>discount_cr</th>\n",
       "      <th>bogo_received_cnt</th>\n",
       "      <th>bogo_viewed_cnt</th>\n",
       "      <th>bogo_completed_cnt</th>\n",
       "      <th>discount_received_cnt</th>\n",
       "      <th>discount_viewed_cnt</th>\n",
       "      <th>discount_completed_cnt</th>\n",
       "      <th>informational_received_cnt</th>\n",
       "      <th>informational_viewed_cnt</th>\n",
       "    </tr>\n",
       "    <tr>\n",
       "      <th>person</th>\n",
       "      <th></th>\n",
       "      <th></th>\n",
       "      <th></th>\n",
       "      <th></th>\n",
       "      <th></th>\n",
       "      <th></th>\n",
       "      <th></th>\n",
       "      <th></th>\n",
       "      <th></th>\n",
       "      <th></th>\n",
       "      <th></th>\n",
       "      <th></th>\n",
       "      <th></th>\n",
       "      <th></th>\n",
       "      <th></th>\n",
       "      <th></th>\n",
       "      <th></th>\n",
       "      <th></th>\n",
       "    </tr>\n",
       "  </thead>\n",
       "  <tbody>\n",
       "    <tr>\n",
       "      <th>68be06ca386d4c31939f3a4f0e3dd783</th>\n",
       "      <td>M</td>\n",
       "      <td>53.0</td>\n",
       "      <td>2017-02-12</td>\n",
       "      <td>59000.0</td>\n",
       "      <td>0.0</td>\n",
       "      <td>0.0</td>\n",
       "      <td>0.0</td>\n",
       "      <td>0.0</td>\n",
       "      <td>1.0</td>\n",
       "      <td>0.4</td>\n",
       "      <td>0.0</td>\n",
       "      <td>0.0</td>\n",
       "      <td>0.0</td>\n",
       "      <td>5.0</td>\n",
       "      <td>5.0</td>\n",
       "      <td>2.0</td>\n",
       "      <td>0.0</td>\n",
       "      <td>0.0</td>\n",
       "    </tr>\n",
       "    <tr>\n",
       "      <th>0610b486422d4921ae7d2bf64640c50b</th>\n",
       "      <td>F</td>\n",
       "      <td>55.0</td>\n",
       "      <td>2017-07-15</td>\n",
       "      <td>112000.0</td>\n",
       "      <td>0.0</td>\n",
       "      <td>0.0</td>\n",
       "      <td>0.0</td>\n",
       "      <td>0.0</td>\n",
       "      <td>0.0</td>\n",
       "      <td>0.0</td>\n",
       "      <td>0.0</td>\n",
       "      <td>0.0</td>\n",
       "      <td>0.0</td>\n",
       "      <td>0.0</td>\n",
       "      <td>0.0</td>\n",
       "      <td>0.0</td>\n",
       "      <td>1.0</td>\n",
       "      <td>0.0</td>\n",
       "    </tr>\n",
       "    <tr>\n",
       "      <th>38fe809add3b4fcf9315a9694bb96ff5</th>\n",
       "      <td>M</td>\n",
       "      <td>53.0</td>\n",
       "      <td>2018-07-12</td>\n",
       "      <td>59000.0</td>\n",
       "      <td>1.0</td>\n",
       "      <td>0.0</td>\n",
       "      <td>1.0</td>\n",
       "      <td>0.0</td>\n",
       "      <td>0.0</td>\n",
       "      <td>0.0</td>\n",
       "      <td>1.0</td>\n",
       "      <td>1.0</td>\n",
       "      <td>0.0</td>\n",
       "      <td>0.0</td>\n",
       "      <td>0.0</td>\n",
       "      <td>0.0</td>\n",
       "      <td>1.0</td>\n",
       "      <td>1.0</td>\n",
       "    </tr>\n",
       "  </tbody>\n",
       "</table>\n",
       "</div>"
      ],
      "text/plain": [
       "                                 gender   age became_member_on    income  \\\n",
       "person                                                                     \n",
       "68be06ca386d4c31939f3a4f0e3dd783      M  53.0       2017-02-12   59000.0   \n",
       "0610b486422d4921ae7d2bf64640c50b      F  55.0       2017-07-15  112000.0   \n",
       "38fe809add3b4fcf9315a9694bb96ff5      M  53.0       2018-07-12   59000.0   \n",
       "\n",
       "                                  informational_vr  informational_cr  bogo_vr  \\\n",
       "person                                                                          \n",
       "68be06ca386d4c31939f3a4f0e3dd783               0.0               0.0      0.0   \n",
       "0610b486422d4921ae7d2bf64640c50b               0.0               0.0      0.0   \n",
       "38fe809add3b4fcf9315a9694bb96ff5               1.0               0.0      1.0   \n",
       "\n",
       "                                  bogo_cr  discount_vr  discount_cr  \\\n",
       "person                                                                \n",
       "68be06ca386d4c31939f3a4f0e3dd783      0.0          1.0          0.4   \n",
       "0610b486422d4921ae7d2bf64640c50b      0.0          0.0          0.0   \n",
       "38fe809add3b4fcf9315a9694bb96ff5      0.0          0.0          0.0   \n",
       "\n",
       "                                  bogo_received_cnt  bogo_viewed_cnt  \\\n",
       "person                                                                 \n",
       "68be06ca386d4c31939f3a4f0e3dd783                0.0              0.0   \n",
       "0610b486422d4921ae7d2bf64640c50b                0.0              0.0   \n",
       "38fe809add3b4fcf9315a9694bb96ff5                1.0              1.0   \n",
       "\n",
       "                                  bogo_completed_cnt  discount_received_cnt  \\\n",
       "person                                                                        \n",
       "68be06ca386d4c31939f3a4f0e3dd783                 0.0                    5.0   \n",
       "0610b486422d4921ae7d2bf64640c50b                 0.0                    0.0   \n",
       "38fe809add3b4fcf9315a9694bb96ff5                 0.0                    0.0   \n",
       "\n",
       "                                  discount_viewed_cnt  discount_completed_cnt  \\\n",
       "person                                                                          \n",
       "68be06ca386d4c31939f3a4f0e3dd783                  5.0                     2.0   \n",
       "0610b486422d4921ae7d2bf64640c50b                  0.0                     0.0   \n",
       "38fe809add3b4fcf9315a9694bb96ff5                  0.0                     0.0   \n",
       "\n",
       "                                  informational_received_cnt  \\\n",
       "person                                                         \n",
       "68be06ca386d4c31939f3a4f0e3dd783                         0.0   \n",
       "0610b486422d4921ae7d2bf64640c50b                         1.0   \n",
       "38fe809add3b4fcf9315a9694bb96ff5                         1.0   \n",
       "\n",
       "                                  informational_viewed_cnt  \n",
       "person                                                      \n",
       "68be06ca386d4c31939f3a4f0e3dd783                       0.0  \n",
       "0610b486422d4921ae7d2bf64640c50b                       0.0  \n",
       "38fe809add3b4fcf9315a9694bb96ff5                       1.0  "
      ]
     },
     "execution_count": 41,
     "metadata": {},
     "output_type": "execute_result"
    }
   ],
   "source": [
    "#get counts of each event for each offer\n",
    "rated_cust_df = Transformation.get_offer_counts(m_offer_df, rated_cust_df)\n",
    "\n",
    "print(\"Shape of the dataframe is: \" + str(rated_cust_df.shape))\n",
    "rated_cust_df.head(3)"
   ]
  },
  {
   "cell_type": "markdown",
   "id": "rapid-tampa",
   "metadata": {},
   "source": [
    "### Process Transaction Data"
   ]
  },
  {
   "cell_type": "code",
   "execution_count": 42,
   "id": "fluid-catalog",
   "metadata": {},
   "outputs": [
    {
     "name": "stdout",
     "output_type": "stream",
     "text": [
      "Shape of the dataframe is: (17000, 21)\n"
     ]
    },
    {
     "data": {
      "text/html": [
       "<div>\n",
       "<style scoped>\n",
       "    .dataframe tbody tr th:only-of-type {\n",
       "        vertical-align: middle;\n",
       "    }\n",
       "\n",
       "    .dataframe tbody tr th {\n",
       "        vertical-align: top;\n",
       "    }\n",
       "\n",
       "    .dataframe thead th {\n",
       "        text-align: right;\n",
       "    }\n",
       "</style>\n",
       "<table border=\"1\" class=\"dataframe\">\n",
       "  <thead>\n",
       "    <tr style=\"text-align: right;\">\n",
       "      <th></th>\n",
       "      <th>gender</th>\n",
       "      <th>age</th>\n",
       "      <th>became_member_on</th>\n",
       "      <th>income</th>\n",
       "      <th>informational_vr</th>\n",
       "      <th>informational_cr</th>\n",
       "      <th>bogo_vr</th>\n",
       "      <th>bogo_cr</th>\n",
       "      <th>discount_vr</th>\n",
       "      <th>discount_cr</th>\n",
       "      <th>...</th>\n",
       "      <th>bogo_viewed_cnt</th>\n",
       "      <th>bogo_completed_cnt</th>\n",
       "      <th>discount_received_cnt</th>\n",
       "      <th>discount_viewed_cnt</th>\n",
       "      <th>discount_completed_cnt</th>\n",
       "      <th>informational_received_cnt</th>\n",
       "      <th>informational_viewed_cnt</th>\n",
       "      <th>total_amount</th>\n",
       "      <th>total_rewards</th>\n",
       "      <th>total_transactions</th>\n",
       "    </tr>\n",
       "    <tr>\n",
       "      <th>person</th>\n",
       "      <th></th>\n",
       "      <th></th>\n",
       "      <th></th>\n",
       "      <th></th>\n",
       "      <th></th>\n",
       "      <th></th>\n",
       "      <th></th>\n",
       "      <th></th>\n",
       "      <th></th>\n",
       "      <th></th>\n",
       "      <th></th>\n",
       "      <th></th>\n",
       "      <th></th>\n",
       "      <th></th>\n",
       "      <th></th>\n",
       "      <th></th>\n",
       "      <th></th>\n",
       "      <th></th>\n",
       "      <th></th>\n",
       "      <th></th>\n",
       "      <th></th>\n",
       "    </tr>\n",
       "  </thead>\n",
       "  <tbody>\n",
       "    <tr>\n",
       "      <th>68be06ca386d4c31939f3a4f0e3dd783</th>\n",
       "      <td>M</td>\n",
       "      <td>53.0</td>\n",
       "      <td>2017-02-12</td>\n",
       "      <td>59000.0</td>\n",
       "      <td>0.0</td>\n",
       "      <td>0.0</td>\n",
       "      <td>0.0</td>\n",
       "      <td>0.0</td>\n",
       "      <td>1.0</td>\n",
       "      <td>0.4</td>\n",
       "      <td>...</td>\n",
       "      <td>0.0</td>\n",
       "      <td>0.0</td>\n",
       "      <td>5.0</td>\n",
       "      <td>5.0</td>\n",
       "      <td>2.0</td>\n",
       "      <td>0.0</td>\n",
       "      <td>0.0</td>\n",
       "      <td>20.40</td>\n",
       "      <td>5.0</td>\n",
       "      <td>9.0</td>\n",
       "    </tr>\n",
       "    <tr>\n",
       "      <th>0610b486422d4921ae7d2bf64640c50b</th>\n",
       "      <td>F</td>\n",
       "      <td>55.0</td>\n",
       "      <td>2017-07-15</td>\n",
       "      <td>112000.0</td>\n",
       "      <td>0.0</td>\n",
       "      <td>0.0</td>\n",
       "      <td>0.0</td>\n",
       "      <td>0.0</td>\n",
       "      <td>0.0</td>\n",
       "      <td>0.0</td>\n",
       "      <td>...</td>\n",
       "      <td>0.0</td>\n",
       "      <td>0.0</td>\n",
       "      <td>0.0</td>\n",
       "      <td>0.0</td>\n",
       "      <td>0.0</td>\n",
       "      <td>1.0</td>\n",
       "      <td>0.0</td>\n",
       "      <td>77.01</td>\n",
       "      <td>5.0</td>\n",
       "      <td>3.0</td>\n",
       "    </tr>\n",
       "    <tr>\n",
       "      <th>38fe809add3b4fcf9315a9694bb96ff5</th>\n",
       "      <td>M</td>\n",
       "      <td>53.0</td>\n",
       "      <td>2018-07-12</td>\n",
       "      <td>59000.0</td>\n",
       "      <td>1.0</td>\n",
       "      <td>0.0</td>\n",
       "      <td>1.0</td>\n",
       "      <td>0.0</td>\n",
       "      <td>0.0</td>\n",
       "      <td>0.0</td>\n",
       "      <td>...</td>\n",
       "      <td>1.0</td>\n",
       "      <td>0.0</td>\n",
       "      <td>0.0</td>\n",
       "      <td>0.0</td>\n",
       "      <td>0.0</td>\n",
       "      <td>1.0</td>\n",
       "      <td>1.0</td>\n",
       "      <td>14.30</td>\n",
       "      <td>0.0</td>\n",
       "      <td>6.0</td>\n",
       "    </tr>\n",
       "  </tbody>\n",
       "</table>\n",
       "<p>3 rows × 21 columns</p>\n",
       "</div>"
      ],
      "text/plain": [
       "                                 gender   age became_member_on    income  \\\n",
       "person                                                                     \n",
       "68be06ca386d4c31939f3a4f0e3dd783      M  53.0       2017-02-12   59000.0   \n",
       "0610b486422d4921ae7d2bf64640c50b      F  55.0       2017-07-15  112000.0   \n",
       "38fe809add3b4fcf9315a9694bb96ff5      M  53.0       2018-07-12   59000.0   \n",
       "\n",
       "                                  informational_vr  informational_cr  bogo_vr  \\\n",
       "person                                                                          \n",
       "68be06ca386d4c31939f3a4f0e3dd783               0.0               0.0      0.0   \n",
       "0610b486422d4921ae7d2bf64640c50b               0.0               0.0      0.0   \n",
       "38fe809add3b4fcf9315a9694bb96ff5               1.0               0.0      1.0   \n",
       "\n",
       "                                  bogo_cr  discount_vr  discount_cr  ...  \\\n",
       "person                                                               ...   \n",
       "68be06ca386d4c31939f3a4f0e3dd783      0.0          1.0          0.4  ...   \n",
       "0610b486422d4921ae7d2bf64640c50b      0.0          0.0          0.0  ...   \n",
       "38fe809add3b4fcf9315a9694bb96ff5      0.0          0.0          0.0  ...   \n",
       "\n",
       "                                  bogo_viewed_cnt  bogo_completed_cnt  \\\n",
       "person                                                                  \n",
       "68be06ca386d4c31939f3a4f0e3dd783              0.0                 0.0   \n",
       "0610b486422d4921ae7d2bf64640c50b              0.0                 0.0   \n",
       "38fe809add3b4fcf9315a9694bb96ff5              1.0                 0.0   \n",
       "\n",
       "                                  discount_received_cnt  discount_viewed_cnt  \\\n",
       "person                                                                         \n",
       "68be06ca386d4c31939f3a4f0e3dd783                    5.0                  5.0   \n",
       "0610b486422d4921ae7d2bf64640c50b                    0.0                  0.0   \n",
       "38fe809add3b4fcf9315a9694bb96ff5                    0.0                  0.0   \n",
       "\n",
       "                                  discount_completed_cnt  \\\n",
       "person                                                     \n",
       "68be06ca386d4c31939f3a4f0e3dd783                     2.0   \n",
       "0610b486422d4921ae7d2bf64640c50b                     0.0   \n",
       "38fe809add3b4fcf9315a9694bb96ff5                     0.0   \n",
       "\n",
       "                                  informational_received_cnt  \\\n",
       "person                                                         \n",
       "68be06ca386d4c31939f3a4f0e3dd783                         0.0   \n",
       "0610b486422d4921ae7d2bf64640c50b                         1.0   \n",
       "38fe809add3b4fcf9315a9694bb96ff5                         1.0   \n",
       "\n",
       "                                  informational_viewed_cnt  total_amount  \\\n",
       "person                                                                     \n",
       "68be06ca386d4c31939f3a4f0e3dd783                       0.0         20.40   \n",
       "0610b486422d4921ae7d2bf64640c50b                       0.0         77.01   \n",
       "38fe809add3b4fcf9315a9694bb96ff5                       1.0         14.30   \n",
       "\n",
       "                                  total_rewards  total_transactions  \n",
       "person                                                               \n",
       "68be06ca386d4c31939f3a4f0e3dd783            5.0                 9.0  \n",
       "0610b486422d4921ae7d2bf64640c50b            5.0                 3.0  \n",
       "38fe809add3b4fcf9315a9694bb96ff5            0.0                 6.0  \n",
       "\n",
       "[3 rows x 21 columns]"
      ]
     },
     "execution_count": 42,
     "metadata": {},
     "output_type": "execute_result"
    }
   ],
   "source": [
    "#get total amount spent, total amount rewarded & total transactions\n",
    "rated_cust_df = Transformation.process_transaction_data(df_transcript, rated_cust_df)\n",
    "\n",
    "print(\"Shape of the dataframe is: \" + str(rated_cust_df.shape))\n",
    "rated_cust_df.head(3)"
   ]
  },
  {
   "cell_type": "code",
   "execution_count": 43,
   "id": "promotional-heater",
   "metadata": {
    "scrolled": true
   },
   "outputs": [
    {
     "name": "stdout",
     "output_type": "stream",
     "text": [
      "Shape of the dataframe is: (17000, 23)\n"
     ]
    },
    {
     "data": {
      "text/html": [
       "<div>\n",
       "<style scoped>\n",
       "    .dataframe tbody tr th:only-of-type {\n",
       "        vertical-align: middle;\n",
       "    }\n",
       "\n",
       "    .dataframe tbody tr th {\n",
       "        vertical-align: top;\n",
       "    }\n",
       "\n",
       "    .dataframe thead th {\n",
       "        text-align: right;\n",
       "    }\n",
       "</style>\n",
       "<table border=\"1\" class=\"dataframe\">\n",
       "  <thead>\n",
       "    <tr style=\"text-align: right;\">\n",
       "      <th></th>\n",
       "      <th>gender</th>\n",
       "      <th>age</th>\n",
       "      <th>became_member_on</th>\n",
       "      <th>income</th>\n",
       "      <th>informational_vr</th>\n",
       "      <th>informational_cr</th>\n",
       "      <th>bogo_vr</th>\n",
       "      <th>bogo_cr</th>\n",
       "      <th>discount_vr</th>\n",
       "      <th>discount_cr</th>\n",
       "      <th>...</th>\n",
       "      <th>discount_received_cnt</th>\n",
       "      <th>discount_viewed_cnt</th>\n",
       "      <th>discount_completed_cnt</th>\n",
       "      <th>informational_received_cnt</th>\n",
       "      <th>informational_viewed_cnt</th>\n",
       "      <th>total_amount</th>\n",
       "      <th>total_rewards</th>\n",
       "      <th>total_transactions</th>\n",
       "      <th>bogo_rewards</th>\n",
       "      <th>discount_rewards</th>\n",
       "    </tr>\n",
       "    <tr>\n",
       "      <th>person</th>\n",
       "      <th></th>\n",
       "      <th></th>\n",
       "      <th></th>\n",
       "      <th></th>\n",
       "      <th></th>\n",
       "      <th></th>\n",
       "      <th></th>\n",
       "      <th></th>\n",
       "      <th></th>\n",
       "      <th></th>\n",
       "      <th></th>\n",
       "      <th></th>\n",
       "      <th></th>\n",
       "      <th></th>\n",
       "      <th></th>\n",
       "      <th></th>\n",
       "      <th></th>\n",
       "      <th></th>\n",
       "      <th></th>\n",
       "      <th></th>\n",
       "      <th></th>\n",
       "    </tr>\n",
       "  </thead>\n",
       "  <tbody>\n",
       "    <tr>\n",
       "      <th>68be06ca386d4c31939f3a4f0e3dd783</th>\n",
       "      <td>M</td>\n",
       "      <td>53.0</td>\n",
       "      <td>2017-02-12</td>\n",
       "      <td>59000.0</td>\n",
       "      <td>0.0</td>\n",
       "      <td>0.0</td>\n",
       "      <td>0.0</td>\n",
       "      <td>0.0</td>\n",
       "      <td>1.0</td>\n",
       "      <td>0.4</td>\n",
       "      <td>...</td>\n",
       "      <td>5.0</td>\n",
       "      <td>5.0</td>\n",
       "      <td>2.0</td>\n",
       "      <td>0.0</td>\n",
       "      <td>0.0</td>\n",
       "      <td>20.40</td>\n",
       "      <td>5.0</td>\n",
       "      <td>9.0</td>\n",
       "      <td>0.0</td>\n",
       "      <td>5.0</td>\n",
       "    </tr>\n",
       "    <tr>\n",
       "      <th>0610b486422d4921ae7d2bf64640c50b</th>\n",
       "      <td>F</td>\n",
       "      <td>55.0</td>\n",
       "      <td>2017-07-15</td>\n",
       "      <td>112000.0</td>\n",
       "      <td>0.0</td>\n",
       "      <td>0.0</td>\n",
       "      <td>0.0</td>\n",
       "      <td>0.0</td>\n",
       "      <td>0.0</td>\n",
       "      <td>0.0</td>\n",
       "      <td>...</td>\n",
       "      <td>0.0</td>\n",
       "      <td>0.0</td>\n",
       "      <td>0.0</td>\n",
       "      <td>1.0</td>\n",
       "      <td>0.0</td>\n",
       "      <td>77.01</td>\n",
       "      <td>5.0</td>\n",
       "      <td>3.0</td>\n",
       "      <td>5.0</td>\n",
       "      <td>0.0</td>\n",
       "    </tr>\n",
       "    <tr>\n",
       "      <th>38fe809add3b4fcf9315a9694bb96ff5</th>\n",
       "      <td>M</td>\n",
       "      <td>53.0</td>\n",
       "      <td>2018-07-12</td>\n",
       "      <td>59000.0</td>\n",
       "      <td>1.0</td>\n",
       "      <td>0.0</td>\n",
       "      <td>1.0</td>\n",
       "      <td>0.0</td>\n",
       "      <td>0.0</td>\n",
       "      <td>0.0</td>\n",
       "      <td>...</td>\n",
       "      <td>0.0</td>\n",
       "      <td>0.0</td>\n",
       "      <td>0.0</td>\n",
       "      <td>1.0</td>\n",
       "      <td>1.0</td>\n",
       "      <td>14.30</td>\n",
       "      <td>0.0</td>\n",
       "      <td>6.0</td>\n",
       "      <td>0.0</td>\n",
       "      <td>0.0</td>\n",
       "    </tr>\n",
       "  </tbody>\n",
       "</table>\n",
       "<p>3 rows × 23 columns</p>\n",
       "</div>"
      ],
      "text/plain": [
       "                                 gender   age became_member_on    income  \\\n",
       "person                                                                     \n",
       "68be06ca386d4c31939f3a4f0e3dd783      M  53.0       2017-02-12   59000.0   \n",
       "0610b486422d4921ae7d2bf64640c50b      F  55.0       2017-07-15  112000.0   \n",
       "38fe809add3b4fcf9315a9694bb96ff5      M  53.0       2018-07-12   59000.0   \n",
       "\n",
       "                                  informational_vr  informational_cr  bogo_vr  \\\n",
       "person                                                                          \n",
       "68be06ca386d4c31939f3a4f0e3dd783               0.0               0.0      0.0   \n",
       "0610b486422d4921ae7d2bf64640c50b               0.0               0.0      0.0   \n",
       "38fe809add3b4fcf9315a9694bb96ff5               1.0               0.0      1.0   \n",
       "\n",
       "                                  bogo_cr  discount_vr  discount_cr  ...  \\\n",
       "person                                                               ...   \n",
       "68be06ca386d4c31939f3a4f0e3dd783      0.0          1.0          0.4  ...   \n",
       "0610b486422d4921ae7d2bf64640c50b      0.0          0.0          0.0  ...   \n",
       "38fe809add3b4fcf9315a9694bb96ff5      0.0          0.0          0.0  ...   \n",
       "\n",
       "                                  discount_received_cnt  discount_viewed_cnt  \\\n",
       "person                                                                         \n",
       "68be06ca386d4c31939f3a4f0e3dd783                    5.0                  5.0   \n",
       "0610b486422d4921ae7d2bf64640c50b                    0.0                  0.0   \n",
       "38fe809add3b4fcf9315a9694bb96ff5                    0.0                  0.0   \n",
       "\n",
       "                                  discount_completed_cnt  \\\n",
       "person                                                     \n",
       "68be06ca386d4c31939f3a4f0e3dd783                     2.0   \n",
       "0610b486422d4921ae7d2bf64640c50b                     0.0   \n",
       "38fe809add3b4fcf9315a9694bb96ff5                     0.0   \n",
       "\n",
       "                                  informational_received_cnt  \\\n",
       "person                                                         \n",
       "68be06ca386d4c31939f3a4f0e3dd783                         0.0   \n",
       "0610b486422d4921ae7d2bf64640c50b                         1.0   \n",
       "38fe809add3b4fcf9315a9694bb96ff5                         1.0   \n",
       "\n",
       "                                  informational_viewed_cnt  total_amount  \\\n",
       "person                                                                     \n",
       "68be06ca386d4c31939f3a4f0e3dd783                       0.0         20.40   \n",
       "0610b486422d4921ae7d2bf64640c50b                       0.0         77.01   \n",
       "38fe809add3b4fcf9315a9694bb96ff5                       1.0         14.30   \n",
       "\n",
       "                                  total_rewards  total_transactions  \\\n",
       "person                                                                \n",
       "68be06ca386d4c31939f3a4f0e3dd783            5.0                 9.0   \n",
       "0610b486422d4921ae7d2bf64640c50b            5.0                 3.0   \n",
       "38fe809add3b4fcf9315a9694bb96ff5            0.0                 6.0   \n",
       "\n",
       "                                  bogo_rewards  discount_rewards  \n",
       "person                                                            \n",
       "68be06ca386d4c31939f3a4f0e3dd783           0.0               5.0  \n",
       "0610b486422d4921ae7d2bf64640c50b           5.0               0.0  \n",
       "38fe809add3b4fcf9315a9694bb96ff5           0.0               0.0  \n",
       "\n",
       "[3 rows x 23 columns]"
      ]
     },
     "execution_count": 43,
     "metadata": {},
     "output_type": "execute_result"
    }
   ],
   "source": [
    "#get the bogo & discount rewards\n",
    "m_transcripts = df_transcript.merge(\n",
    "                    df_portfolio[['offer_id', 'offer_type']], \n",
    "                    how = \"left\", \n",
    "                    on=\"offer_id\")\n",
    "#call the fucntion\n",
    "rated_cust_df = Transformation.process_rewards(m_transcripts, rated_cust_df)\n",
    "\n",
    "print(\"Shape of the dataframe is: \" + str(rated_cust_df.shape))\n",
    "rated_cust_df.head(3)"
   ]
  },
  {
   "cell_type": "code",
   "execution_count": 44,
   "id": "medium-installation",
   "metadata": {},
   "outputs": [
    {
     "name": "stdout",
     "output_type": "stream",
     "text": [
      "Shape of the dataframe is: (17000, 27)\n"
     ]
    },
    {
     "data": {
      "text/html": [
       "<div>\n",
       "<style scoped>\n",
       "    .dataframe tbody tr th:only-of-type {\n",
       "        vertical-align: middle;\n",
       "    }\n",
       "\n",
       "    .dataframe tbody tr th {\n",
       "        vertical-align: top;\n",
       "    }\n",
       "\n",
       "    .dataframe thead th {\n",
       "        text-align: right;\n",
       "    }\n",
       "</style>\n",
       "<table border=\"1\" class=\"dataframe\">\n",
       "  <thead>\n",
       "    <tr style=\"text-align: right;\">\n",
       "      <th></th>\n",
       "      <th>gender</th>\n",
       "      <th>age</th>\n",
       "      <th>became_member_on</th>\n",
       "      <th>income</th>\n",
       "      <th>informational_vr</th>\n",
       "      <th>informational_cr</th>\n",
       "      <th>bogo_vr</th>\n",
       "      <th>bogo_cr</th>\n",
       "      <th>discount_vr</th>\n",
       "      <th>discount_cr</th>\n",
       "      <th>...</th>\n",
       "      <th>informational_viewed_cnt</th>\n",
       "      <th>total_amount</th>\n",
       "      <th>total_rewards</th>\n",
       "      <th>total_transactions</th>\n",
       "      <th>bogo_rewards</th>\n",
       "      <th>discount_rewards</th>\n",
       "      <th>avg_amount</th>\n",
       "      <th>avg_rewards</th>\n",
       "      <th>avg_bogo_rewards</th>\n",
       "      <th>avg_discount_rewards</th>\n",
       "    </tr>\n",
       "    <tr>\n",
       "      <th>person</th>\n",
       "      <th></th>\n",
       "      <th></th>\n",
       "      <th></th>\n",
       "      <th></th>\n",
       "      <th></th>\n",
       "      <th></th>\n",
       "      <th></th>\n",
       "      <th></th>\n",
       "      <th></th>\n",
       "      <th></th>\n",
       "      <th></th>\n",
       "      <th></th>\n",
       "      <th></th>\n",
       "      <th></th>\n",
       "      <th></th>\n",
       "      <th></th>\n",
       "      <th></th>\n",
       "      <th></th>\n",
       "      <th></th>\n",
       "      <th></th>\n",
       "      <th></th>\n",
       "    </tr>\n",
       "  </thead>\n",
       "  <tbody>\n",
       "    <tr>\n",
       "      <th>68be06ca386d4c31939f3a4f0e3dd783</th>\n",
       "      <td>M</td>\n",
       "      <td>53.0</td>\n",
       "      <td>2017-02-12</td>\n",
       "      <td>59000.0</td>\n",
       "      <td>0.0</td>\n",
       "      <td>0.0</td>\n",
       "      <td>0.0</td>\n",
       "      <td>0.0</td>\n",
       "      <td>1.0</td>\n",
       "      <td>0.4</td>\n",
       "      <td>...</td>\n",
       "      <td>0.0</td>\n",
       "      <td>20.40</td>\n",
       "      <td>5.0</td>\n",
       "      <td>9.0</td>\n",
       "      <td>0.0</td>\n",
       "      <td>5.0</td>\n",
       "      <td>2.0</td>\n",
       "      <td>1.0</td>\n",
       "      <td>0.0</td>\n",
       "      <td>0.416667</td>\n",
       "    </tr>\n",
       "    <tr>\n",
       "      <th>0610b486422d4921ae7d2bf64640c50b</th>\n",
       "      <td>F</td>\n",
       "      <td>55.0</td>\n",
       "      <td>2017-07-15</td>\n",
       "      <td>112000.0</td>\n",
       "      <td>0.0</td>\n",
       "      <td>0.0</td>\n",
       "      <td>0.0</td>\n",
       "      <td>0.0</td>\n",
       "      <td>0.0</td>\n",
       "      <td>0.0</td>\n",
       "      <td>...</td>\n",
       "      <td>0.0</td>\n",
       "      <td>77.01</td>\n",
       "      <td>5.0</td>\n",
       "      <td>3.0</td>\n",
       "      <td>5.0</td>\n",
       "      <td>0.0</td>\n",
       "      <td>26.0</td>\n",
       "      <td>2.0</td>\n",
       "      <td>2.5</td>\n",
       "      <td>0.000000</td>\n",
       "    </tr>\n",
       "    <tr>\n",
       "      <th>38fe809add3b4fcf9315a9694bb96ff5</th>\n",
       "      <td>M</td>\n",
       "      <td>53.0</td>\n",
       "      <td>2018-07-12</td>\n",
       "      <td>59000.0</td>\n",
       "      <td>1.0</td>\n",
       "      <td>0.0</td>\n",
       "      <td>1.0</td>\n",
       "      <td>0.0</td>\n",
       "      <td>0.0</td>\n",
       "      <td>0.0</td>\n",
       "      <td>...</td>\n",
       "      <td>1.0</td>\n",
       "      <td>14.30</td>\n",
       "      <td>0.0</td>\n",
       "      <td>6.0</td>\n",
       "      <td>0.0</td>\n",
       "      <td>0.0</td>\n",
       "      <td>2.0</td>\n",
       "      <td>0.0</td>\n",
       "      <td>0.0</td>\n",
       "      <td>0.000000</td>\n",
       "    </tr>\n",
       "  </tbody>\n",
       "</table>\n",
       "<p>3 rows × 27 columns</p>\n",
       "</div>"
      ],
      "text/plain": [
       "                                 gender   age became_member_on    income  \\\n",
       "person                                                                     \n",
       "68be06ca386d4c31939f3a4f0e3dd783      M  53.0       2017-02-12   59000.0   \n",
       "0610b486422d4921ae7d2bf64640c50b      F  55.0       2017-07-15  112000.0   \n",
       "38fe809add3b4fcf9315a9694bb96ff5      M  53.0       2018-07-12   59000.0   \n",
       "\n",
       "                                  informational_vr  informational_cr  bogo_vr  \\\n",
       "person                                                                          \n",
       "68be06ca386d4c31939f3a4f0e3dd783               0.0               0.0      0.0   \n",
       "0610b486422d4921ae7d2bf64640c50b               0.0               0.0      0.0   \n",
       "38fe809add3b4fcf9315a9694bb96ff5               1.0               0.0      1.0   \n",
       "\n",
       "                                  bogo_cr  discount_vr  discount_cr  ...  \\\n",
       "person                                                               ...   \n",
       "68be06ca386d4c31939f3a4f0e3dd783      0.0          1.0          0.4  ...   \n",
       "0610b486422d4921ae7d2bf64640c50b      0.0          0.0          0.0  ...   \n",
       "38fe809add3b4fcf9315a9694bb96ff5      0.0          0.0          0.0  ...   \n",
       "\n",
       "                                  informational_viewed_cnt  total_amount  \\\n",
       "person                                                                     \n",
       "68be06ca386d4c31939f3a4f0e3dd783                       0.0         20.40   \n",
       "0610b486422d4921ae7d2bf64640c50b                       0.0         77.01   \n",
       "38fe809add3b4fcf9315a9694bb96ff5                       1.0         14.30   \n",
       "\n",
       "                                  total_rewards  total_transactions  \\\n",
       "person                                                                \n",
       "68be06ca386d4c31939f3a4f0e3dd783            5.0                 9.0   \n",
       "0610b486422d4921ae7d2bf64640c50b            5.0                 3.0   \n",
       "38fe809add3b4fcf9315a9694bb96ff5            0.0                 6.0   \n",
       "\n",
       "                                  bogo_rewards  discount_rewards  avg_amount  \\\n",
       "person                                                                         \n",
       "68be06ca386d4c31939f3a4f0e3dd783           0.0               5.0         2.0   \n",
       "0610b486422d4921ae7d2bf64640c50b           5.0               0.0        26.0   \n",
       "38fe809add3b4fcf9315a9694bb96ff5           0.0               0.0         2.0   \n",
       "\n",
       "                                  avg_rewards  avg_bogo_rewards  \\\n",
       "person                                                            \n",
       "68be06ca386d4c31939f3a4f0e3dd783          1.0               0.0   \n",
       "0610b486422d4921ae7d2bf64640c50b          2.0               2.5   \n",
       "38fe809add3b4fcf9315a9694bb96ff5          0.0               0.0   \n",
       "\n",
       "                                  avg_discount_rewards  \n",
       "person                                                  \n",
       "68be06ca386d4c31939f3a4f0e3dd783              0.416667  \n",
       "0610b486422d4921ae7d2bf64640c50b              0.000000  \n",
       "38fe809add3b4fcf9315a9694bb96ff5              0.000000  \n",
       "\n",
       "[3 rows x 27 columns]"
      ]
     },
     "execution_count": 44,
     "metadata": {},
     "output_type": "execute_result"
    }
   ],
   "source": [
    "#call the fucntion\n",
    "rated_cust_df = Transformation.process_event_averages(m_transcripts, rated_cust_df)\n",
    "\n",
    "print(\"Shape of the dataframe is: \" + str(rated_cust_df.shape))\n",
    "rated_cust_df.head(3)"
   ]
  },
  {
   "cell_type": "markdown",
   "id": "loaded-chester",
   "metadata": {},
   "source": [
    "### One-Hot Encode Gender & Year"
   ]
  },
  {
   "cell_type": "markdown",
   "id": "blond-glance",
   "metadata": {},
   "source": [
    "The gender column has three values : Male, Female & Other which will be one hot encoded to have their own columns with 0 for no and 1 for yes as the indicators. In addition, there is 6 years worth of data from 2012-2018, this will also be one hot encoded."
   ]
  },
  {
   "cell_type": "code",
   "execution_count": 45,
   "id": "discrete-warehouse",
   "metadata": {
    "scrolled": true
   },
   "outputs": [
    {
     "name": "stdout",
     "output_type": "stream",
     "text": [
      "Shape of the dataframe is: (17000, 34)\n"
     ]
    },
    {
     "data": {
      "text/html": [
       "<div>\n",
       "<style scoped>\n",
       "    .dataframe tbody tr th:only-of-type {\n",
       "        vertical-align: middle;\n",
       "    }\n",
       "\n",
       "    .dataframe tbody tr th {\n",
       "        vertical-align: top;\n",
       "    }\n",
       "\n",
       "    .dataframe thead th {\n",
       "        text-align: right;\n",
       "    }\n",
       "</style>\n",
       "<table border=\"1\" class=\"dataframe\">\n",
       "  <thead>\n",
       "    <tr style=\"text-align: right;\">\n",
       "      <th></th>\n",
       "      <th>age</th>\n",
       "      <th>income</th>\n",
       "      <th>informational_vr</th>\n",
       "      <th>informational_cr</th>\n",
       "      <th>bogo_vr</th>\n",
       "      <th>bogo_cr</th>\n",
       "      <th>discount_vr</th>\n",
       "      <th>discount_cr</th>\n",
       "      <th>bogo_received_cnt</th>\n",
       "      <th>bogo_viewed_cnt</th>\n",
       "      <th>...</th>\n",
       "      <th>avg_discount_rewards</th>\n",
       "      <th>gender_F</th>\n",
       "      <th>gender_M</th>\n",
       "      <th>gender_O</th>\n",
       "      <th>year_2013</th>\n",
       "      <th>year_2014</th>\n",
       "      <th>year_2015</th>\n",
       "      <th>year_2016</th>\n",
       "      <th>year_2017</th>\n",
       "      <th>year_2018</th>\n",
       "    </tr>\n",
       "    <tr>\n",
       "      <th>person</th>\n",
       "      <th></th>\n",
       "      <th></th>\n",
       "      <th></th>\n",
       "      <th></th>\n",
       "      <th></th>\n",
       "      <th></th>\n",
       "      <th></th>\n",
       "      <th></th>\n",
       "      <th></th>\n",
       "      <th></th>\n",
       "      <th></th>\n",
       "      <th></th>\n",
       "      <th></th>\n",
       "      <th></th>\n",
       "      <th></th>\n",
       "      <th></th>\n",
       "      <th></th>\n",
       "      <th></th>\n",
       "      <th></th>\n",
       "      <th></th>\n",
       "      <th></th>\n",
       "    </tr>\n",
       "  </thead>\n",
       "  <tbody>\n",
       "    <tr>\n",
       "      <th>68be06ca386d4c31939f3a4f0e3dd783</th>\n",
       "      <td>53.0</td>\n",
       "      <td>59000.0</td>\n",
       "      <td>0.0</td>\n",
       "      <td>0.0</td>\n",
       "      <td>0.0</td>\n",
       "      <td>0.0</td>\n",
       "      <td>1.0</td>\n",
       "      <td>0.4</td>\n",
       "      <td>0.0</td>\n",
       "      <td>0.0</td>\n",
       "      <td>...</td>\n",
       "      <td>0.416667</td>\n",
       "      <td>0</td>\n",
       "      <td>1</td>\n",
       "      <td>0</td>\n",
       "      <td>0</td>\n",
       "      <td>0</td>\n",
       "      <td>0</td>\n",
       "      <td>0</td>\n",
       "      <td>1</td>\n",
       "      <td>0</td>\n",
       "    </tr>\n",
       "    <tr>\n",
       "      <th>0610b486422d4921ae7d2bf64640c50b</th>\n",
       "      <td>55.0</td>\n",
       "      <td>112000.0</td>\n",
       "      <td>0.0</td>\n",
       "      <td>0.0</td>\n",
       "      <td>0.0</td>\n",
       "      <td>0.0</td>\n",
       "      <td>0.0</td>\n",
       "      <td>0.0</td>\n",
       "      <td>0.0</td>\n",
       "      <td>0.0</td>\n",
       "      <td>...</td>\n",
       "      <td>0.000000</td>\n",
       "      <td>1</td>\n",
       "      <td>0</td>\n",
       "      <td>0</td>\n",
       "      <td>0</td>\n",
       "      <td>0</td>\n",
       "      <td>0</td>\n",
       "      <td>0</td>\n",
       "      <td>1</td>\n",
       "      <td>0</td>\n",
       "    </tr>\n",
       "    <tr>\n",
       "      <th>38fe809add3b4fcf9315a9694bb96ff5</th>\n",
       "      <td>53.0</td>\n",
       "      <td>59000.0</td>\n",
       "      <td>1.0</td>\n",
       "      <td>0.0</td>\n",
       "      <td>1.0</td>\n",
       "      <td>0.0</td>\n",
       "      <td>0.0</td>\n",
       "      <td>0.0</td>\n",
       "      <td>1.0</td>\n",
       "      <td>1.0</td>\n",
       "      <td>...</td>\n",
       "      <td>0.000000</td>\n",
       "      <td>0</td>\n",
       "      <td>1</td>\n",
       "      <td>0</td>\n",
       "      <td>0</td>\n",
       "      <td>0</td>\n",
       "      <td>0</td>\n",
       "      <td>0</td>\n",
       "      <td>0</td>\n",
       "      <td>1</td>\n",
       "    </tr>\n",
       "  </tbody>\n",
       "</table>\n",
       "<p>3 rows × 34 columns</p>\n",
       "</div>"
      ],
      "text/plain": [
       "                                   age    income  informational_vr  \\\n",
       "person                                                               \n",
       "68be06ca386d4c31939f3a4f0e3dd783  53.0   59000.0               0.0   \n",
       "0610b486422d4921ae7d2bf64640c50b  55.0  112000.0               0.0   \n",
       "38fe809add3b4fcf9315a9694bb96ff5  53.0   59000.0               1.0   \n",
       "\n",
       "                                  informational_cr  bogo_vr  bogo_cr  \\\n",
       "person                                                                 \n",
       "68be06ca386d4c31939f3a4f0e3dd783               0.0      0.0      0.0   \n",
       "0610b486422d4921ae7d2bf64640c50b               0.0      0.0      0.0   \n",
       "38fe809add3b4fcf9315a9694bb96ff5               0.0      1.0      0.0   \n",
       "\n",
       "                                  discount_vr  discount_cr  bogo_received_cnt  \\\n",
       "person                                                                          \n",
       "68be06ca386d4c31939f3a4f0e3dd783          1.0          0.4                0.0   \n",
       "0610b486422d4921ae7d2bf64640c50b          0.0          0.0                0.0   \n",
       "38fe809add3b4fcf9315a9694bb96ff5          0.0          0.0                1.0   \n",
       "\n",
       "                                  bogo_viewed_cnt  ...  avg_discount_rewards  \\\n",
       "person                                             ...                         \n",
       "68be06ca386d4c31939f3a4f0e3dd783              0.0  ...              0.416667   \n",
       "0610b486422d4921ae7d2bf64640c50b              0.0  ...              0.000000   \n",
       "38fe809add3b4fcf9315a9694bb96ff5              1.0  ...              0.000000   \n",
       "\n",
       "                                  gender_F  gender_M  gender_O  year_2013  \\\n",
       "person                                                                      \n",
       "68be06ca386d4c31939f3a4f0e3dd783         0         1         0          0   \n",
       "0610b486422d4921ae7d2bf64640c50b         1         0         0          0   \n",
       "38fe809add3b4fcf9315a9694bb96ff5         0         1         0          0   \n",
       "\n",
       "                                  year_2014  year_2015  year_2016  year_2017  \\\n",
       "person                                                                         \n",
       "68be06ca386d4c31939f3a4f0e3dd783          0          0          0          1   \n",
       "0610b486422d4921ae7d2bf64640c50b          0          0          0          1   \n",
       "38fe809add3b4fcf9315a9694bb96ff5          0          0          0          0   \n",
       "\n",
       "                                  year_2018  \n",
       "person                                       \n",
       "68be06ca386d4c31939f3a4f0e3dd783          0  \n",
       "0610b486422d4921ae7d2bf64640c50b          0  \n",
       "38fe809add3b4fcf9315a9694bb96ff5          1  \n",
       "\n",
       "[3 rows x 34 columns]"
      ]
     },
     "execution_count": 45,
     "metadata": {},
     "output_type": "execute_result"
    }
   ],
   "source": [
    "#call the fucntion\n",
    "rated_cust_df = Transformation.one_hot_encode(rated_cust_df)\n",
    "\n",
    "print(\"Shape of the dataframe is: \" + str(rated_cust_df.shape))\n",
    "rated_cust_df.head(3)"
   ]
  },
  {
   "cell_type": "code",
   "execution_count": 46,
   "id": "final-mainstream",
   "metadata": {},
   "outputs": [
    {
     "data": {
      "text/plain": [
       "age                           0.0\n",
       "income                        0.0\n",
       "informational_vr              0.0\n",
       "informational_cr              0.0\n",
       "bogo_vr                       0.0\n",
       "bogo_cr                       0.0\n",
       "discount_vr                   0.0\n",
       "discount_cr                   0.0\n",
       "bogo_received_cnt             0.0\n",
       "bogo_viewed_cnt               0.0\n",
       "bogo_completed_cnt            0.0\n",
       "discount_received_cnt         0.0\n",
       "discount_viewed_cnt           0.0\n",
       "discount_completed_cnt        0.0\n",
       "informational_received_cnt    0.0\n",
       "informational_viewed_cnt      0.0\n",
       "total_amount                  0.0\n",
       "total_rewards                 0.0\n",
       "total_transactions            0.0\n",
       "bogo_rewards                  0.0\n",
       "discount_rewards              0.0\n",
       "avg_amount                    0.0\n",
       "avg_rewards                   0.0\n",
       "avg_bogo_rewards              0.0\n",
       "avg_discount_rewards          0.0\n",
       "gender_F                      0.0\n",
       "gender_M                      0.0\n",
       "gender_O                      0.0\n",
       "year_2013                     0.0\n",
       "year_2014                     0.0\n",
       "year_2015                     0.0\n",
       "year_2016                     0.0\n",
       "year_2017                     0.0\n",
       "year_2018                     0.0\n",
       "dtype: float64"
      ]
     },
     "execution_count": 46,
     "metadata": {},
     "output_type": "execute_result"
    }
   ],
   "source": [
    "check_null_values(rated_cust_df)"
   ]
  },
  {
   "cell_type": "code",
   "execution_count": 47,
   "id": "limited-economy",
   "metadata": {},
   "outputs": [],
   "source": [
    "#save the processed file as csv\n",
    "rated_cust_df.to_csv(\"data/customers.csv\")"
   ]
  },
  {
   "cell_type": "code",
   "execution_count": null,
   "id": "dirty-medicare",
   "metadata": {},
   "outputs": [],
   "source": []
  }
 ],
 "metadata": {
  "kernelspec": {
   "display_name": "Python 3",
   "language": "python",
   "name": "python3"
  },
  "language_info": {
   "codemirror_mode": {
    "name": "ipython",
    "version": 3
   },
   "file_extension": ".py",
   "mimetype": "text/x-python",
   "name": "python",
   "nbconvert_exporter": "python",
   "pygments_lexer": "ipython3",
   "version": "3.9.1"
  }
 },
 "nbformat": 4,
 "nbformat_minor": 5
}
